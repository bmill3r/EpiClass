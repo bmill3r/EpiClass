{
 "cells": [
  {
   "cell_type": "markdown",
   "metadata": {
    "heading_collapsed": true
   },
   "source": [
    "# Imports"
   ]
  },
  {
   "cell_type": "code",
   "execution_count": 1,
   "metadata": {
    "ExecuteTime": {
     "end_time": "2020-06-01T22:39:43.608696Z",
     "start_time": "2020-06-01T22:39:38.052882Z"
    },
    "hidden": true
   },
   "outputs": [],
   "source": [
    "import pandas as pd\n",
    "import numpy as np\n",
    "import sys\n",
    "import os\n",
    "import csv\n",
    "\n",
    "import scipy.stats as stats\n",
    "\n",
    "from scipy.stats import beta\n",
    "from scipy.special import gamma as gammaf\n",
    "\n",
    "from sklearn import svm\n",
    "from sklearn.metrics import roc_curve, auc, plot_roc_curve\n",
    "from sklearn.model_selection import train_test_split\n",
    "\n",
    "import matplotlib as mpl\n",
    "from matplotlib import pyplot as plt\n",
    "\n",
    "#aesthetics for plots:\n",
    "font = {'family' : 'arial',\n",
    "        'size'   : 18}\n",
    "mpl.rc('font', **font)\n",
    "\n",
    "%matplotlib inline"
   ]
  },
  {
   "cell_type": "code",
   "execution_count": 2,
   "metadata": {
    "ExecuteTime": {
     "end_time": "2020-06-01T22:39:43.624367Z",
     "start_time": "2020-06-01T22:39:43.612085Z"
    },
    "hidden": true
   },
   "outputs": [],
   "source": [
    "# to load in dictionary of EpiClass tables for each of the 10 sample set runs\n",
    "\n",
    "def saver(dictex):\n",
    "    for key, val in dictex.items():\n",
    "        val.to_csv(\"epiclass_table_{}.csv\".format(str(key)))\n",
    "\n",
    "    with open(\"epiclass_runDict_keys.txt\", \"w\") as f: #saving keys to file\n",
    "        f.write(str(list(dictex.keys())))\n",
    "\n",
    "def loader():\n",
    "    \"\"\"Reading data from keys\"\"\"\n",
    "    with open(\"epiclass_runDict_keys.txt\", \"r\") as f:\n",
    "        keys = eval(f.read())\n",
    "\n",
    "    dictex = {}    \n",
    "    for key in keys:\n",
    "        dictex[key] = pd.read_csv(\"epiclass_table_{}.csv\".format(str(key)))\n",
    "\n",
    "    return dictex\n",
    "\n",
    "# saver(runDict)\n",
    "# runDict = loader()"
   ]
  },
  {
   "cell_type": "markdown",
   "metadata": {
    "heading_collapsed": true
   },
   "source": [
    "# Overview"
   ]
  },
  {
   "cell_type": "markdown",
   "metadata": {
    "hidden": true
   },
   "source": [
    "Notebook detailing the generation of Figure 5 and Supplementary Table S3\n",
    "\n",
    "EpiClass versus CancerDetector using WGBS liver and normal plasma samples from EGAS00001000566 and EGAD00001004317.\n",
    "\n",
    "Marker regions (previously identified as liver cancer markers in CancerDetector study"
   ]
  },
  {
   "cell_type": "markdown",
   "metadata": {
    "heading_collapsed": true
   },
   "source": [
    "# Step 1: Define Marker Regions"
   ]
  },
  {
   "cell_type": "markdown",
   "metadata": {
    "heading_collapsed": true,
    "hidden": true
   },
   "source": [
    "## ZNF154"
   ]
  },
  {
   "cell_type": "markdown",
   "metadata": {
    "hidden": true
   },
   "source": [
    "**Use marker regions that have been prevously identified in the original CancerDetector study**\n",
    "\n",
    "+ ZNF154\n",
    "    - From CancerDetector Supplementary Table S2: ```40268\tchr19:58220195-58220937``` (742bp) (hg19) overlaps the DREAMing targeted ZNF154 region."
   ]
  },
  {
   "cell_type": "markdown",
   "metadata": {
    "heading_collapsed": true,
    "hidden": true
   },
   "source": [
    "## Identify Additional Marker Regions"
   ]
  },
  {
   "cell_type": "markdown",
   "metadata": {
    "hidden": true
   },
   "source": [
    "**Find top 3 hypermethylated loci in LIHC to use as additional markers to test**\n",
    "\n",
    "Identify as probes from BMIQ normalized LIHC 450K methylation array data from TCGA. Collect the overlapping CancerDetector marker regions.\n",
    "\n",
    "Requirements:\n",
    "- Use the matched tumor-normal sample pairs in LIHC\n",
    "- Hypermethylated in LIHC relative to normal controls\n",
    "- beta values < 0.2 in controls\n",
    "- ignore probes that overlap SNPs\n",
    "- Filter by greatest positive median difference of (tumors - controls) beta values"
   ]
  },
  {
   "cell_type": "code",
   "execution_count": 3,
   "metadata": {
    "ExecuteTime": {
     "end_time": "2020-06-01T22:39:43.696855Z",
     "start_time": "2020-06-01T22:39:43.627469Z"
    },
    "hidden": true
   },
   "outputs": [],
   "source": [
    "# CancerDetector Table S2 with marker regions:\n",
    "cancerDetectorMarkers = pd.read_csv('cancerDetectorMarkerRegions.csv', index_col=0)"
   ]
  },
  {
   "cell_type": "code",
   "execution_count": 4,
   "metadata": {
    "ExecuteTime": {
     "end_time": "2020-06-01T22:39:43.710074Z",
     "start_time": "2020-06-01T22:39:43.700052Z"
    },
    "hidden": true
   },
   "outputs": [],
   "source": [
    "# 450K manifest file with probe coordinates (a relatively large file to host remotely)\n",
    "# probeInfoRaw = pd.read_table('probe_450K_mapinfo_PQ.txt')\n",
    "\n",
    "# selected regions of probe manifest file:\n",
    "probeInfoRaw =pd.read_csv(\"top3markersProbeManifest.csv\", index_col=0)"
   ]
  },
  {
   "cell_type": "raw",
   "metadata": {
    "hidden": true
   },
   "source": [
    "# load large 450K methylation array file\n",
    "# NOTE that this file is too large to host (approx 3 Gbs)\n",
    "lihc_bmiq = pd.read_table('BMIQ_LIHC_processed.txt', index_col=0)\n",
    "\n",
    "# clean up column names (ex: TCGA.2V.A95S.01A.11D.A36Y.05 --> TCGA.2V.A95S.01)\n",
    "lihc_bmiq.columns = [i[:15] for i in lihc_bmiq.columns]\n",
    "\n",
    "# find matched tumor-normal pairs:\n",
    "tumorIDs = []\n",
    "normalIDs = []\n",
    "for i in lihc_bmiq.columns:\n",
    "    patient = i[:12]\n",
    "    classID = i[13:15]\n",
    "    if classID == '01':\n",
    "        tumorIDs.append(patient)\n",
    "    if classID == '11':\n",
    "        normalIDs.append(patient)\n",
    "tumorsWithMatch = [i for i in tumorIDs if i in normalIDs]\n",
    "tumorBarcodes = [i + '.01' for i in tumorsWithMatch]\n",
    "normalBarcodes = [i + '.11' for i in normalIDs]\n",
    "lihc_matched_samples = lihc_bmiq[tumorBarcodes + normalBarcodes]\n",
    "\n",
    "# remove rows (probes) with NaNs:\n",
    "lihc_matched_samples = lihc_matched_samples.dropna(axis=0)\n",
    "\n",
    "# remove rows wirh 'rs' probes:\n",
    "lihc_matched_samples = lihc_matched_samples.loc[[\n",
    "    i for i in lihc_matched_samples.index if 'rs' not in i], :]\n",
    "\n",
    "# remove ch.X rows:\n",
    "lihc_matched_samples = lihc_matched_samples.loc[[\n",
    "    i for i in lihc_matched_samples.index if 'ch' not in i], :]\n",
    "lihc_matched_samples\n",
    "\n",
    "# get tumor and normal sample median beta values for each probe\n",
    "lihc_matched_samples['tumor_median'] = lihc_matched_samples[tumorBarcodes].median(\n",
    "    axis=1)\n",
    "lihc_matched_samples['normal_median'] = lihc_matched_samples[normalBarcodes].median(\n",
    "    axis=1)\n",
    "\n",
    "# ----------------------------------\n",
    "# filter probes where normal beta value < 0.2 for all normals:\n",
    "\n",
    "lihc_matched_samples['normal_max'] = lihc_matched_samples[normalBarcodes].max(\n",
    "    axis=1)\n",
    "lihc_matched_samples['median_diff'] = lihc_matched_samples['tumor_median'] - \\\n",
    "    lihc_matched_samples['normal_median']\n",
    "\n",
    "lihc_filt = lihc_matched_samples[lihc_matched_samples['normal_max'] < 0.2]\n",
    "\n",
    "# ----------------------------------\n",
    "# filter for probes that are in a CancerDetector marker region:\n",
    "\n",
    "topProbeChroms = []\n",
    "for i in lihc_filt.index:\n",
    "    chrom = topProbesManifestFilt[topProbesManifestFilt['IlmnID'] == i]['CHR'].values[0]\n",
    "    topProbeChroms.append('chr' + str(int(chrom)))\n",
    "lihc_filt['chr'] = topProbeChroms\n",
    "\n",
    "topProbeCoords = []\n",
    "for i in lihc_filt.index:\n",
    "    coord = topProbesManifestFilt[topProbesManifestFilt['IlmnID'] == i]['MAPINFO'].values[0]\n",
    "    topProbeCoords.append(coord)\n",
    "lihc_filt['coord'] = topProbeCoords\n",
    "\n",
    "ids = []\n",
    "for index, row in lihc_filt.iterrows():\n",
    "    markerID = cancerDetectorMarkers[(cancerDetectorMarkers['chr'] == row['chr']) & (\n",
    "        cancerDetectorMarkers['start'] <= row['coord']) & (cancerDetectorMarkers['end'] >= row['coord'])].index.values\n",
    "    if len(markerID) == 1:\n",
    "        ids.append(markerID[0])\n",
    "    else:\n",
    "        ids.append(0)\n",
    "lihc_filt['markerID'] = ids\n",
    "lihc_filt_InMarker = lihc_filt[lihc_filt['markerID'] != 0]\n",
    "\n",
    "# get top 3 probes with highest median difference\n",
    "top3probes = lihc_filt_InMarker.sort_values('median_diff', ascending=False)\n",
    "\n",
    "# top 3 probes and marker regions:\n",
    "topMarkerIDs = top3probes.iloc[0:3,:]['markerID'].values.to_list()"
   ]
  },
  {
   "cell_type": "raw",
   "metadata": {
    "hidden": true
   },
   "source": [
    "# Marker genomic coordinates:\n",
    "topMarkers = cancerDetectorMarkers.loc[topMarkerIDs]\n",
    "topMarkers"
   ]
  },
  {
   "cell_type": "raw",
   "metadata": {
    "hidden": true
   },
   "source": [
    "\tchr\tstart\tend\n",
    "marker_index\t\t\t\n",
    "6263\tchr2\t208989109\t208989679\n",
    "5594\tchr2\t127782982\t127783470\n",
    "29305\tchr13\t107187077\t107187512"
   ]
  },
  {
   "cell_type": "markdown",
   "metadata": {
    "hidden": true
   },
   "source": [
    "**Get all probes in top region, but remove those that correspond to SNPs**"
   ]
  },
  {
   "cell_type": "code",
   "execution_count": 5,
   "metadata": {
    "ExecuteTime": {
     "end_time": "2020-06-01T22:39:43.724378Z",
     "start_time": "2020-06-01T22:39:43.713873Z"
    },
    "hidden": true
   },
   "outputs": [],
   "source": [
    "probesInMarker6263 = probeInfoRaw[(probeInfoRaw['CHR'] == 2) & (\n",
    "    probeInfoRaw['MAPINFO'] > 208989109.0) & (probeInfoRaw['MAPINFO'] < 208989679.0)]"
   ]
  },
  {
   "cell_type": "code",
   "execution_count": 6,
   "metadata": {
    "ExecuteTime": {
     "end_time": "2020-06-01T22:39:43.736108Z",
     "start_time": "2020-06-01T22:39:43.729174Z"
    },
    "hidden": true
   },
   "outputs": [],
   "source": [
    "# probe cg10823322 is SNP\n",
    "Marker6263probeIDs = probesInMarker6263[probesInMarker6263['IlmnID'] != 'cg10823322' ]['IlmnID'].values"
   ]
  },
  {
   "cell_type": "code",
   "execution_count": 7,
   "metadata": {
    "ExecuteTime": {
     "end_time": "2020-06-01T22:39:43.747315Z",
     "start_time": "2020-06-01T22:39:43.739288Z"
    },
    "hidden": true
   },
   "outputs": [],
   "source": [
    "probesInMarker5594 = probeInfoRaw[(probeInfoRaw['CHR'] == 2) & (\n",
    "    probeInfoRaw['MAPINFO'] > 127782982.0) & (probeInfoRaw['MAPINFO'] < 127783470.0)]"
   ]
  },
  {
   "cell_type": "code",
   "execution_count": 8,
   "metadata": {
    "ExecuteTime": {
     "end_time": "2020-06-01T22:39:43.756294Z",
     "start_time": "2020-06-01T22:39:43.750077Z"
    },
    "hidden": true
   },
   "outputs": [],
   "source": [
    "# probe cg12632573 is SNP\n",
    "Marker5594probeIDs = probesInMarker5594[probesInMarker5594['IlmnID'] != 'cg12632573' ]['IlmnID'].values"
   ]
  },
  {
   "cell_type": "code",
   "execution_count": 9,
   "metadata": {
    "ExecuteTime": {
     "end_time": "2020-06-01T22:39:43.765919Z",
     "start_time": "2020-06-01T22:39:43.759033Z"
    },
    "hidden": true
   },
   "outputs": [],
   "source": [
    "Marker29305probeIDs = probeInfoRaw[(probeInfoRaw['CHR'] == 13) & (\n",
    "    probeInfoRaw['MAPINFO'] > 107187077.0) & (probeInfoRaw['MAPINFO'] < 107187512.0)]['IlmnID'].values"
   ]
  },
  {
   "cell_type": "markdown",
   "metadata": {
    "hidden": true
   },
   "source": [
    "**Beta values of all non-SNP probes in top 3 selected marker regions**"
   ]
  },
  {
   "cell_type": "code",
   "execution_count": 10,
   "metadata": {
    "ExecuteTime": {
     "end_time": "2020-06-01T22:39:43.824352Z",
     "start_time": "2020-06-01T22:39:43.769035Z"
    },
    "hidden": true,
    "scrolled": false
   },
   "outputs": [
    {
     "data": {
      "text/html": [
       "<div>\n",
       "<style scoped>\n",
       "    .dataframe tbody tr th:only-of-type {\n",
       "        vertical-align: middle;\n",
       "    }\n",
       "\n",
       "    .dataframe tbody tr th {\n",
       "        vertical-align: top;\n",
       "    }\n",
       "\n",
       "    .dataframe thead th {\n",
       "        text-align: right;\n",
       "    }\n",
       "</style>\n",
       "<table border=\"1\" class=\"dataframe\">\n",
       "  <thead>\n",
       "    <tr style=\"text-align: right;\">\n",
       "      <th></th>\n",
       "      <th>TCGA.BC.A10Q.01</th>\n",
       "      <th>TCGA.BC.A10R.01</th>\n",
       "      <th>TCGA.BC.A10S.01</th>\n",
       "      <th>TCGA.BC.A10T.01</th>\n",
       "      <th>TCGA.BC.A10U.01</th>\n",
       "      <th>TCGA.BC.A10W.01</th>\n",
       "      <th>TCGA.BC.A10X.01</th>\n",
       "      <th>TCGA.BC.A10Y.01</th>\n",
       "      <th>TCGA.BC.A10Z.01</th>\n",
       "      <th>TCGA.BC.A110.01</th>\n",
       "      <th>...</th>\n",
       "      <th>TCGA.G3.A25W.11</th>\n",
       "      <th>TCGA.G3.A25X.11</th>\n",
       "      <th>tumor_median</th>\n",
       "      <th>tumor_std</th>\n",
       "      <th>normal_median</th>\n",
       "      <th>normal_std</th>\n",
       "      <th>normal_max</th>\n",
       "      <th>median_diff</th>\n",
       "      <th>chr</th>\n",
       "      <th>coord</th>\n",
       "    </tr>\n",
       "  </thead>\n",
       "  <tbody>\n",
       "    <tr>\n",
       "      <td>cg12073779</td>\n",
       "      <td>0.974455</td>\n",
       "      <td>0.838617</td>\n",
       "      <td>0.901963</td>\n",
       "      <td>0.768782</td>\n",
       "      <td>0.074145</td>\n",
       "      <td>0.897122</td>\n",
       "      <td>0.646167</td>\n",
       "      <td>0.942757</td>\n",
       "      <td>0.696955</td>\n",
       "      <td>0.607952</td>\n",
       "      <td>...</td>\n",
       "      <td>0.685856</td>\n",
       "      <td>0.592129</td>\n",
       "      <td>0.786517</td>\n",
       "      <td>0.245031</td>\n",
       "      <td>0.692014</td>\n",
       "      <td>0.087703</td>\n",
       "      <td>0.953090</td>\n",
       "      <td>0.094503</td>\n",
       "      <td>chr2</td>\n",
       "      <td>208989469.0</td>\n",
       "    </tr>\n",
       "    <tr>\n",
       "      <td>cg17916432</td>\n",
       "      <td>0.762741</td>\n",
       "      <td>0.678842</td>\n",
       "      <td>0.591723</td>\n",
       "      <td>0.660340</td>\n",
       "      <td>0.279492</td>\n",
       "      <td>0.696145</td>\n",
       "      <td>0.492397</td>\n",
       "      <td>0.657082</td>\n",
       "      <td>0.685564</td>\n",
       "      <td>0.439019</td>\n",
       "      <td>...</td>\n",
       "      <td>0.485416</td>\n",
       "      <td>0.455460</td>\n",
       "      <td>0.636660</td>\n",
       "      <td>0.129651</td>\n",
       "      <td>0.491828</td>\n",
       "      <td>0.031056</td>\n",
       "      <td>0.570639</td>\n",
       "      <td>0.144832</td>\n",
       "      <td>chr2</td>\n",
       "      <td>208989209.0</td>\n",
       "    </tr>\n",
       "    <tr>\n",
       "      <td>cg22399133</td>\n",
       "      <td>0.921646</td>\n",
       "      <td>0.860264</td>\n",
       "      <td>0.754477</td>\n",
       "      <td>0.773696</td>\n",
       "      <td>0.220705</td>\n",
       "      <td>0.857097</td>\n",
       "      <td>0.199261</td>\n",
       "      <td>0.211506</td>\n",
       "      <td>0.955603</td>\n",
       "      <td>0.101475</td>\n",
       "      <td>...</td>\n",
       "      <td>0.102159</td>\n",
       "      <td>0.137390</td>\n",
       "      <td>0.786568</td>\n",
       "      <td>0.276648</td>\n",
       "      <td>0.084370</td>\n",
       "      <td>0.030881</td>\n",
       "      <td>0.198478</td>\n",
       "      <td>0.702199</td>\n",
       "      <td>chr2</td>\n",
       "      <td>208989248.0</td>\n",
       "    </tr>\n",
       "    <tr>\n",
       "      <td>cg23405212</td>\n",
       "      <td>0.528084</td>\n",
       "      <td>0.569283</td>\n",
       "      <td>0.462367</td>\n",
       "      <td>0.083214</td>\n",
       "      <td>0.029903</td>\n",
       "      <td>0.767586</td>\n",
       "      <td>0.155684</td>\n",
       "      <td>0.504160</td>\n",
       "      <td>0.266911</td>\n",
       "      <td>0.061546</td>\n",
       "      <td>...</td>\n",
       "      <td>0.177677</td>\n",
       "      <td>0.128007</td>\n",
       "      <td>0.483264</td>\n",
       "      <td>0.279821</td>\n",
       "      <td>0.116958</td>\n",
       "      <td>0.051197</td>\n",
       "      <td>0.325005</td>\n",
       "      <td>0.366306</td>\n",
       "      <td>chr2</td>\n",
       "      <td>208989382.0</td>\n",
       "    </tr>\n",
       "    <tr>\n",
       "      <td>cg25429719</td>\n",
       "      <td>0.808312</td>\n",
       "      <td>0.586574</td>\n",
       "      <td>0.413016</td>\n",
       "      <td>0.325805</td>\n",
       "      <td>0.285948</td>\n",
       "      <td>0.838523</td>\n",
       "      <td>0.329415</td>\n",
       "      <td>0.457389</td>\n",
       "      <td>0.580132</td>\n",
       "      <td>0.182499</td>\n",
       "      <td>...</td>\n",
       "      <td>0.303629</td>\n",
       "      <td>0.239423</td>\n",
       "      <td>0.564165</td>\n",
       "      <td>0.228715</td>\n",
       "      <td>0.235799</td>\n",
       "      <td>0.065638</td>\n",
       "      <td>0.405954</td>\n",
       "      <td>0.328366</td>\n",
       "      <td>chr2</td>\n",
       "      <td>208989324.0</td>\n",
       "    </tr>\n",
       "    <tr>\n",
       "      <td>cg22830113</td>\n",
       "      <td>0.877915</td>\n",
       "      <td>0.669089</td>\n",
       "      <td>0.058318</td>\n",
       "      <td>0.830804</td>\n",
       "      <td>0.735158</td>\n",
       "      <td>0.404975</td>\n",
       "      <td>0.070561</td>\n",
       "      <td>0.699801</td>\n",
       "      <td>0.025318</td>\n",
       "      <td>0.029740</td>\n",
       "      <td>...</td>\n",
       "      <td>0.042436</td>\n",
       "      <td>0.023322</td>\n",
       "      <td>0.685087</td>\n",
       "      <td>0.318280</td>\n",
       "      <td>0.039406</td>\n",
       "      <td>0.028917</td>\n",
       "      <td>0.162122</td>\n",
       "      <td>0.645680</td>\n",
       "      <td>chr2</td>\n",
       "      <td>127783168.0</td>\n",
       "    </tr>\n",
       "    <tr>\n",
       "      <td>cg06784108</td>\n",
       "      <td>0.031525</td>\n",
       "      <td>0.066620</td>\n",
       "      <td>0.570767</td>\n",
       "      <td>0.650628</td>\n",
       "      <td>0.032803</td>\n",
       "      <td>0.743410</td>\n",
       "      <td>0.056936</td>\n",
       "      <td>0.944594</td>\n",
       "      <td>0.074857</td>\n",
       "      <td>0.081878</td>\n",
       "      <td>...</td>\n",
       "      <td>0.097973</td>\n",
       "      <td>0.032973</td>\n",
       "      <td>0.412494</td>\n",
       "      <td>0.282677</td>\n",
       "      <td>0.069550</td>\n",
       "      <td>0.029236</td>\n",
       "      <td>0.161683</td>\n",
       "      <td>0.342944</td>\n",
       "      <td>chr13</td>\n",
       "      <td>107187232.0</td>\n",
       "    </tr>\n",
       "    <tr>\n",
       "      <td>cg11173146</td>\n",
       "      <td>0.033709</td>\n",
       "      <td>0.034197</td>\n",
       "      <td>0.679410</td>\n",
       "      <td>0.828508</td>\n",
       "      <td>0.088801</td>\n",
       "      <td>0.478818</td>\n",
       "      <td>0.031084</td>\n",
       "      <td>0.630992</td>\n",
       "      <td>0.021117</td>\n",
       "      <td>0.251691</td>\n",
       "      <td>...</td>\n",
       "      <td>0.085524</td>\n",
       "      <td>0.018815</td>\n",
       "      <td>0.612875</td>\n",
       "      <td>0.310942</td>\n",
       "      <td>0.035103</td>\n",
       "      <td>0.030756</td>\n",
       "      <td>0.146720</td>\n",
       "      <td>0.577772</td>\n",
       "      <td>chr13</td>\n",
       "      <td>107187412.0</td>\n",
       "    </tr>\n",
       "    <tr>\n",
       "      <td>cg27226949</td>\n",
       "      <td>0.057001</td>\n",
       "      <td>0.496149</td>\n",
       "      <td>0.621773</td>\n",
       "      <td>0.584789</td>\n",
       "      <td>0.046910</td>\n",
       "      <td>0.670267</td>\n",
       "      <td>0.088659</td>\n",
       "      <td>0.200878</td>\n",
       "      <td>0.533813</td>\n",
       "      <td>0.212675</td>\n",
       "      <td>...</td>\n",
       "      <td>0.121446</td>\n",
       "      <td>0.057328</td>\n",
       "      <td>0.514282</td>\n",
       "      <td>0.258044</td>\n",
       "      <td>0.105884</td>\n",
       "      <td>0.099681</td>\n",
       "      <td>0.726864</td>\n",
       "      <td>0.408398</td>\n",
       "      <td>chr13</td>\n",
       "      <td>107187177.0</td>\n",
       "    </tr>\n",
       "  </tbody>\n",
       "</table>\n",
       "<p>9 rows × 108 columns</p>\n",
       "</div>"
      ],
      "text/plain": [
       "            TCGA.BC.A10Q.01  TCGA.BC.A10R.01  TCGA.BC.A10S.01  \\\n",
       "cg12073779         0.974455         0.838617         0.901963   \n",
       "cg17916432         0.762741         0.678842         0.591723   \n",
       "cg22399133         0.921646         0.860264         0.754477   \n",
       "cg23405212         0.528084         0.569283         0.462367   \n",
       "cg25429719         0.808312         0.586574         0.413016   \n",
       "cg22830113         0.877915         0.669089         0.058318   \n",
       "cg06784108         0.031525         0.066620         0.570767   \n",
       "cg11173146         0.033709         0.034197         0.679410   \n",
       "cg27226949         0.057001         0.496149         0.621773   \n",
       "\n",
       "            TCGA.BC.A10T.01  TCGA.BC.A10U.01  TCGA.BC.A10W.01  \\\n",
       "cg12073779         0.768782         0.074145         0.897122   \n",
       "cg17916432         0.660340         0.279492         0.696145   \n",
       "cg22399133         0.773696         0.220705         0.857097   \n",
       "cg23405212         0.083214         0.029903         0.767586   \n",
       "cg25429719         0.325805         0.285948         0.838523   \n",
       "cg22830113         0.830804         0.735158         0.404975   \n",
       "cg06784108         0.650628         0.032803         0.743410   \n",
       "cg11173146         0.828508         0.088801         0.478818   \n",
       "cg27226949         0.584789         0.046910         0.670267   \n",
       "\n",
       "            TCGA.BC.A10X.01  TCGA.BC.A10Y.01  TCGA.BC.A10Z.01  \\\n",
       "cg12073779         0.646167         0.942757         0.696955   \n",
       "cg17916432         0.492397         0.657082         0.685564   \n",
       "cg22399133         0.199261         0.211506         0.955603   \n",
       "cg23405212         0.155684         0.504160         0.266911   \n",
       "cg25429719         0.329415         0.457389         0.580132   \n",
       "cg22830113         0.070561         0.699801         0.025318   \n",
       "cg06784108         0.056936         0.944594         0.074857   \n",
       "cg11173146         0.031084         0.630992         0.021117   \n",
       "cg27226949         0.088659         0.200878         0.533813   \n",
       "\n",
       "            TCGA.BC.A110.01  ...  TCGA.G3.A25W.11  TCGA.G3.A25X.11  \\\n",
       "cg12073779         0.607952  ...         0.685856         0.592129   \n",
       "cg17916432         0.439019  ...         0.485416         0.455460   \n",
       "cg22399133         0.101475  ...         0.102159         0.137390   \n",
       "cg23405212         0.061546  ...         0.177677         0.128007   \n",
       "cg25429719         0.182499  ...         0.303629         0.239423   \n",
       "cg22830113         0.029740  ...         0.042436         0.023322   \n",
       "cg06784108         0.081878  ...         0.097973         0.032973   \n",
       "cg11173146         0.251691  ...         0.085524         0.018815   \n",
       "cg27226949         0.212675  ...         0.121446         0.057328   \n",
       "\n",
       "            tumor_median  tumor_std  normal_median  normal_std  normal_max  \\\n",
       "cg12073779      0.786517   0.245031       0.692014    0.087703    0.953090   \n",
       "cg17916432      0.636660   0.129651       0.491828    0.031056    0.570639   \n",
       "cg22399133      0.786568   0.276648       0.084370    0.030881    0.198478   \n",
       "cg23405212      0.483264   0.279821       0.116958    0.051197    0.325005   \n",
       "cg25429719      0.564165   0.228715       0.235799    0.065638    0.405954   \n",
       "cg22830113      0.685087   0.318280       0.039406    0.028917    0.162122   \n",
       "cg06784108      0.412494   0.282677       0.069550    0.029236    0.161683   \n",
       "cg11173146      0.612875   0.310942       0.035103    0.030756    0.146720   \n",
       "cg27226949      0.514282   0.258044       0.105884    0.099681    0.726864   \n",
       "\n",
       "            median_diff    chr        coord  \n",
       "cg12073779     0.094503   chr2  208989469.0  \n",
       "cg17916432     0.144832   chr2  208989209.0  \n",
       "cg22399133     0.702199   chr2  208989248.0  \n",
       "cg23405212     0.366306   chr2  208989382.0  \n",
       "cg25429719     0.328366   chr2  208989324.0  \n",
       "cg22830113     0.645680   chr2  127783168.0  \n",
       "cg06784108     0.342944  chr13  107187232.0  \n",
       "cg11173146     0.577772  chr13  107187412.0  \n",
       "cg27226949     0.408398  chr13  107187177.0  \n",
       "\n",
       "[9 rows x 108 columns]"
      ]
     },
     "execution_count": 10,
     "metadata": {},
     "output_type": "execute_result"
    }
   ],
   "source": [
    "top3markerProbes = pd.read_table('BMIQ_LIHC_top3markerProbes.txt', index_col=0)\n",
    "top3markerProbes"
   ]
  },
  {
   "cell_type": "code",
   "execution_count": 11,
   "metadata": {
    "ExecuteTime": {
     "end_time": "2020-06-01T22:39:43.834021Z",
     "start_time": "2020-06-01T22:39:43.827146Z"
    },
    "hidden": true
   },
   "outputs": [],
   "source": [
    "tumorBarcodes = [i for i in top3markerProbes.columns if '.01' in i]\n",
    "normalBarcodes = [i for i in top3markerProbes.columns if '.11' in i]"
   ]
  },
  {
   "cell_type": "markdown",
   "metadata": {
    "heading_collapsed": true
   },
   "source": [
    "# Step 2: Define Training and Test Sample cohorts"
   ]
  },
  {
   "cell_type": "code",
   "execution_count": 12,
   "metadata": {
    "ExecuteTime": {
     "end_time": "2020-06-01T22:39:43.846250Z",
     "start_time": "2020-06-01T22:39:43.840044Z"
    },
    "hidden": true
   },
   "outputs": [],
   "source": [
    "def generateSplits(data, random_state, test_size):\n",
    "    \n",
    "    y = np.zeros(len(data))\n",
    "    \n",
    "    _train, _test, y_train, y_test = train_test_split(data, y, test_size=test_size, random_state=random_state)\n",
    "    \n",
    "    return _train, _test"
   ]
  },
  {
   "cell_type": "code",
   "execution_count": 13,
   "metadata": {
    "ExecuteTime": {
     "end_time": "2020-06-01T22:39:43.858657Z",
     "start_time": "2020-06-01T22:39:43.850163Z"
    },
    "hidden": true
   },
   "outputs": [],
   "source": [
    "# master WGBS sample list from CUHK and UCLA groups:\n",
    "sampleMeta = pd.read_csv('sample_master_list.csv')"
   ]
  },
  {
   "cell_type": "code",
   "execution_count": 14,
   "metadata": {
    "ExecuteTime": {
     "end_time": "2020-06-01T22:39:43.868801Z",
     "start_time": "2020-06-01T22:39:43.861141Z"
    },
    "hidden": true
   },
   "outputs": [],
   "source": [
    "WGBScontrols = sampleMeta[ (sampleMeta['patient type'] == 'control') & (sampleMeta['tissue'] == 'plasma') ]\n",
    "Controls = WGBScontrols['sample'].values.tolist()"
   ]
  },
  {
   "cell_type": "code",
   "execution_count": 15,
   "metadata": {
    "ExecuteTime": {
     "end_time": "2020-06-01T22:39:43.878958Z",
     "start_time": "2020-06-01T22:39:43.871723Z"
    },
    "hidden": true
   },
   "outputs": [],
   "source": [
    "WGBScases = sampleMeta[ (sampleMeta['patient type'] == 'HCC') & (sampleMeta['tissue'] == 'plasma') ]\n",
    "Cases = WGBScases['sample'].values.tolist()"
   ]
  },
  {
   "cell_type": "code",
   "execution_count": 16,
   "metadata": {
    "ExecuteTime": {
     "end_time": "2020-06-01T22:39:43.924003Z",
     "start_time": "2020-06-01T22:39:43.881905Z"
    },
    "hidden": true
   },
   "outputs": [],
   "source": [
    "numRuns = 10\n",
    "\n",
    "runNames = []\n",
    "for run in np.arange(1, numRuns +1):\n",
    "    name = 'Run {}'.format(run)\n",
    "    runNames.append(name)\n",
    "\n",
    "trials = pd.DataFrame(columns=['Control Training', 'Control Test', 'Case Training', 'Case Test'], index=runNames)\n",
    "\n",
    "for run in np.arange(numRuns):\n",
    "    randomState = run + 1\n",
    "    Control_train, Control_test = generateSplits(Controls, randomState, 0.50)\n",
    "    Case_train, Case_test = generateSplits(Cases, randomState, 0.50)\n",
    "    \n",
    "    controlTrainSet = \" \".join(Control_train)\n",
    "    controlTestSet = \" \".join(Control_test)\n",
    "    caseTrainSet = \" \".join(Case_train)\n",
    "    caseTestSet = \" \".join(Case_test)\n",
    "    \n",
    "    trials.loc[runNames[run], 'Control Training'] = controlTrainSet\n",
    "    trials.loc[runNames[run], 'Control Test'] = controlTestSet\n",
    "    trials.loc[runNames[run], 'Case Training'] = caseTrainSet\n",
    "    trials.loc[runNames[run], 'Case Test'] = caseTestSet"
   ]
  },
  {
   "cell_type": "markdown",
   "metadata": {
    "heading_collapsed": true
   },
   "source": [
    "# Step 3: EpiClass Analysis"
   ]
  },
  {
   "cell_type": "markdown",
   "metadata": {
    "heading_collapsed": true,
    "hidden": true
   },
   "source": [
    "## Generate normalized read counts at each region of interest"
   ]
  },
  {
   "cell_type": "markdown",
   "metadata": {
    "hidden": true
   },
   "source": [
    "1. Bismark aligned BAM files of WGBS samples\n",
    "\n",
    "    - TrimGalore-0.6.0\n",
    "\n",
    "    - Bismark Version: v0.20.0\n",
    "\n",
    "    - ```filter_non_conversion``` v0.20.0\n",
    "\n",
    "    - ```deduplicate_bismark``` v0.20.0\n",
    "\n",
    "    - ```bismark_methylation_extractor --comprehensive``` v0.20.0\n",
    "    \n",
    "\n",
    "2. Create and index [bgzip, tabix] bedGraph file for C-in-CpG context (readCpGcoverageFiles)\n",
    "    \n",
    "    - Obtain coverage information for the number of U and M CpGs covered by reads across genome.\n",
    "    - **To be used as input into CancerDetector**\n",
    "\n",
    "    - ```bismark2bedGraph```\n",
    "\n",
    "\n",
    "3. Get reads in regions of interest (ZNF154 plus the 3 selected markers) for each sample $bam file\n",
    "\n",
    "    - ```samtools view -b -h $bam $regionInterval_1 $regionInterval_2 $regionInterval_3 $regionInterval_4 > $out```\n",
    "    \n",
    "    - Have region interval extend slightly beyond the region to ensure all potentially overlapping reads are captured\n",
    "\n",
    "\n",
    "4. EpiClass version 2.2.5\n",
    "    - Generate READtoMD.DT files for each region using EpiClass.\n",
    "    - ```epiclass READtoMD -i $DirWithBams --intervals $regionInterval --overlap 1.0 --fileTag markerName```\n",
    "    - These tables have the number of U and M CpGs in each read for each sample in the given region. Used to compute read counts for each methylation density cutoffs and thus find the optimal methylation density cutoff for training cohort.\n",
    "    - **Also used to generate the methylation patterns for each read to be used as input for CancerDetector.**\n",
    "    \n",
    "    \n",
    "5. Get lists of samples in each set\n",
    "\n",
    "    - ```controlTrainingSets.txt```\n",
    "    - ```caseTrainingSets.txt```\n",
    "    - ```controlTestSets.txt```\n",
    "    - ```caseTestSets.txt```\n",
    "\n",
    "```\n",
    "for index, row in trials.iterrows():\n",
    "     print(index)\n",
    "     print(\"Control Training:\")\n",
    "     print(row['Case Test'])\n",
    "     print(\" \")\n",
    "     print(\"Case Training:\")\n",
    "     print(row['Case Training'])\n",
    "     print(\" \")\n",
    "```\n",
    "\n",
    "\n",
    "lociFile.txt:\n",
    "\n",
    "```\n",
    "    ZNF154 chr19:58220195-58220937 READtoMDtables/READtoMD.DT.markerZNF154.csv\n",
    "    Marker6263 chr2:208989109-208989679 READtoMDtables/READtoMD.DT.marker6263.csv\n",
    "    Marker5594 chr2:127782982-127783470 READtoMDtables/READtoMD.DT.marker5594.csv\n",
    "    Marker29305 chr13:107187077-107187512 READtoMDtables/READtoMD.DT.marker29305.csv\n",
    "```"
   ]
  },
  {
   "cell_type": "markdown",
   "metadata": {
    "hidden": true
   },
   "source": [
    "6. ```runEpiClass.sh```\n",
    "\n",
    "    - run epiclass on training set and get optimal MD cutoff\n",
    "    - run epiclass on testing set and get read count values for samples at the optimal MD cutoff\n",
    "\n",
    "```\n",
    "#!/bin/bash\n",
    "\n",
    "controlTrainSets=\"controlTrainingSets.txt\"\n",
    "caseTrainSets=\"caseTrainingSets.txt\"\n",
    "\n",
    "controlTestSets=\"controlTestSets.txt\"\n",
    "caseTestSets=\"caseTestSets.txt\"\n",
    "\n",
    "# make arrays to store sample set lists from each of the above files\n",
    "# where each line is a set of samples for a given run\n",
    "IFS=$'\\n' read -d '' -r -a controlsTrain < $controlTrainSets\n",
    "IFS=$'\\n' read -d '' -r -a casesTrain < $caseTrainSets\n",
    "\n",
    "IFS=$'\\n' read -d '' -r -a controlsTest < $controlTestSets\n",
    "IFS=$'\\n' read -d '' -r -a casesTest < $caseTestSets\n",
    "\n",
    "lociFile=\"_loci.txt\"\n",
    "IFS=$'\\n' read -d '' -r -a loci < $lociFile\n",
    "numLoci=$((${#loci[@]}-1))\n",
    "\n",
    "fractions=\"WGBS_sample_fractions.csv\"\n",
    "\n",
    "\n",
    "for i in {0..9} #10 runs, corresponds to number of Training/Test sets\n",
    "do\n",
    "\n",
    "\trunNum=$(($i+1))\n",
    "\n",
    "\techo \"EpiClass Run \"$runNum\n",
    "\n",
    "\tcontrolsSamplesTraining=${controlsTrain[i]}\n",
    "\tcaseSamplesTraining=${casesTrain[i]}\n",
    "\n",
    "\tcontrolsSamplesTest=${controlsTest[i]}\n",
    "\tcaseSamplesTest=${casesTest[i]}\n",
    "\n",
    "\trunTrainingDir=\"epiclass_MultiLoci_runs/Run_\"$runNum\"/training/\"\n",
    "\trunTestingDir=\"epiclass_MultiLoci_runs/Run_\"$runNum\"/testing/\"\n",
    "\n",
    "\t# for each run, perform epiclass on training and testing sets for each locus\n",
    "\tfor l in $(seq 0 $numLoci)\n",
    "\tdo\n",
    "\n",
    "\t\tlocus=$(echo ${loci[l]} | cut -d' ' -f1)\n",
    "\t\tinterval=$(echo ${loci[l]} | cut -d' ' -f2)\n",
    "\t\tlocusREADtoDTpath=$(echo ${loci[l]} | cut -d' ' -f3) #READtoDT file generated based on a given locus genomic interval\n",
    "\n",
    "\t\techo $locus\n",
    "\t\t\n",
    "\t\tlocusTrainDirOut=$runTrainingDir$locus\n",
    "\n",
    "\t\tfileTagTrain=$locus\"_Run_\"$runNum\"_training\"\n",
    "\t\tlocusTrainLogFile=$locusTrainDirOut\"/\"$fileTagTrain\".log\"\n",
    "\n",
    "\t\tmkdir -p $locusTrainDirOut\n",
    "\n",
    "\t\techo \"EpiClass training set...\"\n",
    "\n",
    "\t\tepiclass MDBC -i $locusREADtoDTpath -a $caseSamplesTraining -b $controlsSamplesTraining \\\n",
    "\t\t--fractions $fractions --ignoreEFsummary --optimalMDreadcounts \\\n",
    "\t\t--fileTag $fileTagTrain -o $locusTrainDirOut > $locusTrainLogFile\n",
    "\n",
    "\t\t# get the optimal MD cutoff for read counts, obtained from the log file\n",
    "\t\twhile read line; do\n",
    "\t\t\tif [[ \"$line\" == *\"Optimal MD cutoff (read counts)\"* ]]; then\n",
    "\t  \t\t\tmd=$(echo $line | cut -d'=' -f 2 | cut -d' ' -f 2)\n",
    "\t\t\tfi\n",
    "\t\tdone < $locusTrainLogFile\n",
    "\n",
    "\n",
    "\t\techo \"MDBC test set with MD = \"$md\n",
    "\n",
    "\t\tlocusTestDirOut=$runTestingDir$locus\n",
    "\n",
    "\t\tfileTagTest=$locus\"_Run_\"$runNum\"_testing\"\n",
    "\t\tlocusTestLogFile=$locusTestDirOut\"/\"$fileTagTest\".log\"\n",
    "\n",
    "\t\tmkdir -p $locusTestDirOut\n",
    "\n",
    "\t\tepiclass MDBC -i $locusREADtoDTpath -a $caseSamplesTest -b $controlsSamplesTest \\\n",
    "\t\t--fractions $fractions --ignoreCountsummary --ignoreEFsummary --sampleValsAtMD $md \\\n",
    "\t\t--fileTag $fileTagTest -o $locusTestDirOut > $locusTestLogFile\n",
    "\n",
    "\t\t# get training sample count values for optimal MD\n",
    "\t\tepiclass MDBC -i $locusREADtoDTpath -a $caseSamplesTraining -b $controlsSamplesTraining \\\n",
    "\t\t--fractions $fractions --ignoreCountsummary --ignoreEFsummary --sampleValsAtMD $md \\\n",
    "\t\t--fileTag $fileTagTrain -o $locusTrainDirOut\n",
    "\n",
    "\tdone\n",
    "\n",
    "done\n",
    "```\n",
    "\n"
   ]
  },
  {
   "cell_type": "markdown",
   "metadata": {
    "hidden": true
   },
   "source": [
    "The structure of the output directory:\n",
    "\n",
    "```\n",
    ".\n",
    "├── Run_1\n",
    "│   ├── Cases\n",
    "│   └── Controls\n",
    "├── Run_10\n",
    "│   ├── Cases\n",
    "│   └── Controls\n",
    "├── Run_2\n",
    "│   ├── Cases\n",
    "│   └── Controls\n",
    "├── Run_3\n",
    "│   ├── Cases\n",
    "│   └── Controls\n",
    "├── Run_4\n",
    "│   ├── Cases\n",
    "│   └── Controls\n",
    "├── Run_5\n",
    "│   ├── Cases\n",
    "│   └── Controls\n",
    "├── Run_6\n",
    "│   ├── Cases\n",
    "│   └── Controls\n",
    "├── Run_7\n",
    "│   ├── Cases\n",
    "│   └── Controls\n",
    "├── Run_8\n",
    "│   ├── Cases\n",
    "│   └── Controls\n",
    "└── Run_9\n",
    "    ├── Cases\n",
    "    └── Controls\n",
    "```\n",
    "\n",
    "And looking for the ```*_MD-COUNT-VALS.csv``` files, which have the values"
   ]
  },
  {
   "cell_type": "markdown",
   "metadata": {
    "heading_collapsed": true,
    "hidden": true
   },
   "source": [
    "## Analyse EpiClass outputs and generate ROC curves"
   ]
  },
  {
   "cell_type": "markdown",
   "metadata": {
    "hidden": true
   },
   "source": [
    "For each run, generate table for samples that have the normalized methylated read counts (for optimal MD cutoff) for each locus as well as the set the sample belongs to for each run.\n",
    "\n",
    "**runDict tables from EpiClass Analysis already generated. Load with ```loader()```; see below**"
   ]
  },
  {
   "cell_type": "code",
   "execution_count": 17,
   "metadata": {
    "ExecuteTime": {
     "end_time": "2020-06-01T22:39:43.932105Z",
     "start_time": "2020-06-01T22:39:43.926868Z"
    },
    "hidden": true
   },
   "outputs": [],
   "source": [
    "# For combining multiple markers, use a linear model based on the normalized read counts for each region.\n",
    "\n",
    "random_state = np.random.RandomState(0)\n",
    "classifier = svm.SVC(kernel='linear', probability=True,\n",
    "                     random_state=random_state)"
   ]
  },
  {
   "cell_type": "raw",
   "metadata": {
    "ExecuteTime": {
     "end_time": "2020-06-01T17:33:04.479211Z",
     "start_time": "2020-06-01T17:33:03.003551Z"
    },
    "hidden": true
   },
   "source": [
    "dirToEpiClassOutputs = \"epiclass_MultiLoci_runs/\"\n",
    "\n",
    "runDict = {}\n",
    "\n",
    "for path, subdirs, files in os.walk(dirToEpiClassOutputs):\n",
    "    \n",
    "    for f in files:\n",
    "        \n",
    "        if \"MD-COUNTS_VALS.csv\" in f:\n",
    "            run = path.split(\"/\")[-3]\n",
    "            trainORtest = path.split(\"/\")[-2]\n",
    "            locus = path.split(\"/\")[-1]\n",
    "            df = pd.read_csv(path + \"/\" + f)\n",
    "            \n",
    "            cases = df[['cases', 'case_samples']].dropna()\n",
    "            cases = cases.set_index('case_samples')\n",
    "            cases['set'] = [1] * len(cases)\n",
    "            cases['set_type'] = [trainORtest] * len(cases)\n",
    "            cases = cases.rename(columns={'cases':locus})\n",
    "            \n",
    "            controls = df[['controls', 'control_samples']].dropna()\n",
    "            controls = controls.set_index('control_samples')\n",
    "            controls = controls.rename(columns={'controls':locus})\n",
    "            controls['set'] = [0] * len(controls)\n",
    "            controls['set_type'] = [trainORtest] * len(controls)\n",
    "            controls = controls.rename(columns={'cases':locus})\n",
    "            \n",
    "            runVals = cases.append(controls)\n",
    "            \n",
    "            if run not in runDict:\n",
    "                runDict[run] = runVals\n",
    "            else:\n",
    "                runDict[run] = runDict[run].append(runVals)"
   ]
  },
  {
   "cell_type": "raw",
   "metadata": {
    "ExecuteTime": {
     "end_time": "2020-06-01T17:33:07.368670Z",
     "start_time": "2020-06-01T17:33:07.020247Z"
    },
    "hidden": true
   },
   "source": [
    "# cleanup tables in dict:\n",
    "for key, val in runDict.items():\n",
    "    runDict[key] = val.groupby([val.index]).agg({'Marker6263': 'sum',\n",
    "                                                 'Marker5594': 'sum',\n",
    "                                                 'Marker29305': 'sum',\n",
    "                                                 'ZNF154': 'sum',\n",
    "                                                 'set': lambda x: x.unique(),\n",
    "                                                 'set_type': lambda x: x.unique()})"
   ]
  },
  {
   "cell_type": "code",
   "execution_count": 18,
   "metadata": {
    "ExecuteTime": {
     "end_time": "2020-06-01T22:39:43.989824Z",
     "start_time": "2020-06-01T22:39:43.934852Z"
    },
    "hidden": true
   },
   "outputs": [],
   "source": [
    "# load epiclass tables of read counts for each locus:\n",
    "runDict = loader()"
   ]
  },
  {
   "cell_type": "markdown",
   "metadata": {
    "heading_collapsed": true,
    "hidden": true
   },
   "source": [
    "### ZNF154"
   ]
  },
  {
   "cell_type": "code",
   "execution_count": 19,
   "metadata": {
    "ExecuteTime": {
     "end_time": "2020-06-01T22:39:44.713489Z",
     "start_time": "2020-06-01T22:39:43.992395Z"
    },
    "hidden": true
   },
   "outputs": [
    {
     "data": {
      "image/png": "[encoded data removed]",
      "text/plain": [
       "<Figure size 432x288 with 1 Axes>"
      ]
     },
     "metadata": {
      "needs_background": "light"
     },
     "output_type": "display_data"
    }
   ],
   "source": [
    "mean_fpr = np.linspace(0, 1, 100)\n",
    "epiclass_aucs_ZNF = []\n",
    "epiclass_tprs = []\n",
    "\n",
    "fig, ax = plt.subplots()\n",
    "\n",
    "sortedRunDict = dict(sorted(runDict.items()))\n",
    "\n",
    "for run, vals in sortedRunDict.items():\n",
    "    \n",
    "    values = vals[vals['set_type'] == 'testing']['ZNF154']\n",
    "    labels = vals[vals['set_type'] == 'testing']['set']\n",
    "\n",
    "    fpr, tpr, thresholds = roc_curve(labels, values)\n",
    "    roc_auc = auc(fpr, tpr)\n",
    "\n",
    "#     optimal_idx = np.argmax(tpr - fpr)\n",
    "#     optimal_threshold = thresholds[optimal_idx]\n",
    "#     sensitivity = tpr[optimal_idx]\n",
    "#     specificity = 1 - fpr[optimal_idx]\n",
    "\n",
    "    epiclass_aucs_ZNF.append(roc_auc)\n",
    "\n",
    "    interp_tpr = np.interp(mean_fpr, fpr, tpr)\n",
    "    interp_tpr[0] = 0.0\n",
    "    epiclass_tprs.append(interp_tpr)\n",
    "\n",
    "    lw = 2\n",
    "    plt.plot(fpr, tpr, color='blue', lw=lw,\n",
    "             label='AUC = %0.2f' % roc_auc, alpha=0.1)\n",
    "    plt.plot([0, 1], [0, 1], color='k', lw=lw, linestyle='--')\n",
    "    plt.xlim([0.0, 1.00])\n",
    "    plt.ylim([0.0, 1.00])\n",
    "    plt.xlabel('FPR', fontsize=26)\n",
    "    plt.ylabel('TPR', fontsize=26)\n",
    "    plt.xticks(np.arange(0, 1.1, .2), [str(round(i, 2))\n",
    "                                       for i in np.arange(0, 1.1, .2)], fontsize=20)\n",
    "    plt.yticks(np.arange(0, 1.1, .2), [str(round(i, 2))\n",
    "                                       for i in np.arange(0, 1.1, .2)], fontsize=20)\n",
    "\n",
    "mean_tpr = np.mean(epiclass_tprs, axis=0)\n",
    "mean_tpr[-1] = 1.0\n",
    "mean_auc = auc(mean_fpr, mean_tpr)\n",
    "std_auc = np.std(epiclass_aucs_ZNF)\n",
    "\n",
    "\n",
    "ax.plot(mean_fpr, mean_tpr, color='blue',\n",
    "        label=r'Mean ROC (AUC = %0.2f $\\pm$ %0.2f)' % (mean_auc, std_auc),\n",
    "        lw=2)\n",
    "\n",
    "std_tpr = np.std(epiclass_tprs, axis=0)\n",
    "tprs_upper = np.minimum(mean_tpr + std_tpr, 1)\n",
    "tprs_lower = np.maximum(mean_tpr - std_tpr, 0)\n",
    "ax.fill_between(mean_fpr, tprs_lower, tprs_upper, color='lightblue', alpha=.5,\n",
    "                label=r'$\\pm$ 1 std. dev.')\n",
    "\n",
    "ax.set(xlim=[-0.01, 1.01], ylim=[-0.01, 1.01])\n",
    "\n",
    "plt.title('EpiClass, ZNF154', fontsize=18)\n",
    "\n",
    "plt.legend(bbox_to_anchor=(1.05, 1.03),\n",
    "               loc='upper left', fontsize=12, edgecolor='k')\n",
    "\n",
    "plt.show()\n",
    "# plt.savefig('EpiClass_ZNF_10runs_ROC_LiverWGBS.png', bbox_inches='tight', pad_inches=0.5, dpi=600)"
   ]
  },
  {
   "cell_type": "markdown",
   "metadata": {
    "heading_collapsed": true,
    "hidden": true
   },
   "source": [
    "### Top 3 markers"
   ]
  },
  {
   "cell_type": "code",
   "execution_count": 20,
   "metadata": {
    "ExecuteTime": {
     "end_time": "2020-06-01T22:39:45.160012Z",
     "start_time": "2020-06-01T22:39:44.715921Z"
    },
    "hidden": true
   },
   "outputs": [
    {
     "data": {
      "image/png": "[encoded data removed]",
      "text/plain": [
       "<Figure size 432x288 with 1 Axes>"
      ]
     },
     "metadata": {
      "needs_background": "light"
     },
     "output_type": "display_data"
    }
   ],
   "source": [
    "tprs = []\n",
    "epiclass_aucs_3markers = []\n",
    "mean_fpr = np.linspace(0, 1, 100)\n",
    "\n",
    "fig, ax = plt.subplots()\n",
    "\n",
    "sortedRunDict = dict(sorted(runDict.items()))\n",
    "\n",
    "for run, vals in sortedRunDict.items():\n",
    "    \n",
    "#     ['Marker6263', 'Marker5594', 'Marker29305', 'ZNF154']\n",
    "    trainVals = vals[vals['set_type'] == 'training'][['Marker6263', 'Marker5594', 'Marker29305']]\n",
    "    trainLabels = vals[vals['set_type'] == 'training']['set']\n",
    "    \n",
    "    testVals = vals[vals['set_type'] == 'testing'][['Marker6263', 'Marker5594', 'Marker29305']]\n",
    "    testLabels = vals[vals['set_type'] == 'testing']['set']\n",
    "    \n",
    "    classifier.fit(trainVals, trainLabels)\n",
    "    viz = plot_roc_curve(classifier, testVals, testLabels,\n",
    "#                          label='AUC = {}'.format(round(viz.roc_auc, 2)), #name='ROC {}'.format(run),\n",
    "                         alpha=0.1, lw=2, ax=ax, color='b')\n",
    "    ax.set_label('AUC = {}'.format(round(viz.roc_auc, 2)))\n",
    "    interp_tpr = np.interp(mean_fpr, viz.fpr, viz.tpr)\n",
    "    interp_tpr[0] = 0.0\n",
    "    tprs.append(interp_tpr)\n",
    "    epiclass_aucs_3markers.append(viz.roc_auc)\n",
    "\n",
    "ax.plot([0, 1], [0, 1], linestyle='--', lw=2, color='k', alpha=.8)\n",
    "\n",
    "mean_tpr = np.mean(tprs, axis=0)\n",
    "mean_tpr[-1] = 1.0\n",
    "mean_auc = auc(mean_fpr, mean_tpr)\n",
    "std_auc = np.std(epiclass_aucs_3markers)\n",
    "ax.plot(mean_fpr, mean_tpr, color='b',\n",
    "        label=r'Mean ROC (AUC = %0.2f $\\pm$ %0.2f)' % (mean_auc, std_auc),\n",
    "        lw=2, alpha=.8)\n",
    "\n",
    "std_tpr = np.std(tprs, axis=0)\n",
    "tprs_upper = np.minimum(mean_tpr + std_tpr, 1)\n",
    "tprs_lower = np.maximum(mean_tpr - std_tpr, 0)\n",
    "ax.fill_between(mean_fpr, tprs_lower, tprs_upper, color='lightblue', alpha=.5,\n",
    "                label=r'$\\pm$ 1 std. dev.')\n",
    "\n",
    "ax.set(xlim=[-0.01, 1.01], ylim=[-0.01, 1.01],\n",
    "       title=\"EpiClass\")\n",
    "\n",
    "plt.xlabel('FPR', fontsize=26)\n",
    "plt.ylabel('TPR', fontsize=26)\n",
    "plt.xticks(np.arange(0, 1.1, .2), [str(round(i, 2))\n",
    "                                   for i in np.arange(0, 1.1, .2)], fontsize=20)\n",
    "plt.yticks(np.arange(0, 1.1, .2), [str(round(i, 2))\n",
    "                                   for i in np.arange(0, 1.1, .2)], fontsize=20)\n",
    "\n",
    "plt.legend(bbox_to_anchor=(1.05, 1.03),\n",
    "               loc='upper left', fontsize=12, edgecolor='k')\n",
    "\n",
    "plt.title('EpiClass, Top 3 Markers', fontsize=18)\n",
    "\n",
    "plt.show()\n",
    "# plt.savefig('top3_EpiClass_10runs_ROC_LiverWGBS.png', bbox_inches='tight', pad_inches=0.5, dpi=600)"
   ]
  },
  {
   "cell_type": "markdown",
   "metadata": {
    "heading_collapsed": true,
    "hidden": true
   },
   "source": [
    "### Top 3 markers + ZNF154"
   ]
  },
  {
   "cell_type": "code",
   "execution_count": 21,
   "metadata": {
    "ExecuteTime": {
     "end_time": "2020-06-01T22:39:45.615646Z",
     "start_time": "2020-06-01T22:39:45.161982Z"
    },
    "hidden": true
   },
   "outputs": [
    {
     "data": {
      "image/png": "[encoded data removed]",
      "text/plain": [
       "<Figure size 432x288 with 1 Axes>"
      ]
     },
     "metadata": {
      "needs_background": "light"
     },
     "output_type": "display_data"
    }
   ],
   "source": [
    "tprs = []\n",
    "epiclass_aucs_3plusZNF = []\n",
    "mean_fpr = np.linspace(0, 1, 100)\n",
    "\n",
    "fig, ax = plt.subplots()\n",
    "\n",
    "sortedRunDict = dict(sorted(runDict.items()))\n",
    "\n",
    "for run, vals in sortedRunDict.items():\n",
    "    \n",
    "#     ['Marker6263', 'Marker5594', 'Marker29305', 'ZNF154']\n",
    "    trainVals = vals[vals['set_type'] == 'training'][['Marker6263', 'Marker5594', 'Marker29305', 'ZNF154']]\n",
    "    trainLabels = vals[vals['set_type'] == 'training']['set']\n",
    "    \n",
    "    testVals = vals[vals['set_type'] == 'testing'][['Marker6263', 'Marker5594', 'Marker29305', 'ZNF154']]\n",
    "    testLabels = vals[vals['set_type'] == 'testing']['set']\n",
    "    \n",
    "    classifier.fit(trainVals, trainLabels)\n",
    "    viz = plot_roc_curve(classifier, testVals, testLabels,\n",
    "#                          label='AUC = {}'.format(round(viz.roc_auc, 2)), #name='ROC {}'.format(run),\n",
    "                         alpha=0.1, lw=2, ax=ax, color='b')\n",
    "    ax.set_label('AUC = {}'.format(round(viz.roc_auc, 2)))\n",
    "    interp_tpr = np.interp(mean_fpr, viz.fpr, viz.tpr)\n",
    "    interp_tpr[0] = 0.0\n",
    "    tprs.append(interp_tpr)\n",
    "    epiclass_aucs_3plusZNF.append(viz.roc_auc)\n",
    "\n",
    "ax.plot([0, 1], [0, 1], linestyle='--', lw=2, color='k', alpha=.8)\n",
    "\n",
    "mean_tpr = np.mean(tprs, axis=0)\n",
    "mean_tpr[-1] = 1.0\n",
    "mean_auc = auc(mean_fpr, mean_tpr)\n",
    "std_auc = np.std(epiclass_aucs_3plusZNF)\n",
    "ax.plot(mean_fpr, mean_tpr, color='b',\n",
    "        label=r'Mean ROC (AUC = %0.2f $\\pm$ %0.2f)' % (mean_auc, std_auc),\n",
    "        lw=2, alpha=.8)\n",
    "\n",
    "std_tpr = np.std(tprs, axis=0)\n",
    "tprs_upper = np.minimum(mean_tpr + std_tpr, 1)\n",
    "tprs_lower = np.maximum(mean_tpr - std_tpr, 0)\n",
    "ax.fill_between(mean_fpr, tprs_lower, tprs_upper, color='lightblue', alpha=.5,\n",
    "                label=r'$\\pm$ 1 std. dev.')\n",
    "\n",
    "ax.set(xlim=[-0.01, 1.01], ylim=[-0.01, 1.01],\n",
    "       title=\"EpiClass\")\n",
    "\n",
    "plt.xlabel('FPR', fontsize=26)\n",
    "plt.ylabel('TPR', fontsize=26)\n",
    "plt.xticks(np.arange(0, 1.1, .2), [str(round(i, 2))\n",
    "                                   for i in np.arange(0, 1.1, .2)], fontsize=20)\n",
    "plt.yticks(np.arange(0, 1.1, .2), [str(round(i, 2))\n",
    "                                   for i in np.arange(0, 1.1, .2)], fontsize=20)\n",
    "\n",
    "plt.legend(bbox_to_anchor=(1.05, 1.03),\n",
    "               loc='upper left', fontsize=12, edgecolor='k')\n",
    "\n",
    "plt.title('EpiClass, Top 3 Markers + ZNF154', fontsize=18)\n",
    "\n",
    "plt.show()\n",
    "# plt.savefig('top3plusZNF_EpiClass_10runs_ROC_LiverWGBS.png', bbox_inches='tight', pad_inches=0.5, dpi=600)"
   ]
  },
  {
   "cell_type": "markdown",
   "metadata": {
    "heading_collapsed": true
   },
   "source": [
    "# Step 4: CancerDetector Analysis"
   ]
  },
  {
   "cell_type": "markdown",
   "metadata": {
    "heading_collapsed": true,
    "hidden": true
   },
   "source": [
    "## Compute Tumor and Normal Class Shape Parameters"
   ]
  },
  {
   "cell_type": "markdown",
   "metadata": {
    "hidden": true
   },
   "source": [
    "- Shape paramaters learnt from modeling beta distributions for each sample class (Tumors or Normals).\n",
    "\n",
    "    - Tumor Class beta distribution is built using the beta values for the matched LIHC tumor sample 450K methylation array data .\n",
    "    \n",
    "    - Normal Class beta distribution is bult using beta values for matched normal LIHC sample 450K methylation array data.\n",
    "        - But also from training sample set WGBS data (the methylation level based on number of meCpGs / total CpGs of reads for given region).\n",
    "    \n",
    "- Shape parameters learnt for each region.\n",
    "\n",
    "...\n",
    "\n",
    "**Comments**:\n",
    "\n",
    "Averaging the methylation level across a given region for each sample resulted in significantly worse performance for CancerDetector.\n",
    "\n",
    "This may be due to the fact that the resulting beta distributions were heavily weighted towards either fully methylated (betas 0.8-1.0) or unmethylated (0.0-0.2). As most reads at these regions in liquid biopsy were unmethylated, the rarity of fully methylated reads and the low likelihood of reads being assigned to the Tumor Class resulted in poor sensitivity.\n",
    "\n",
    "However, including methylation level of all CpGs in a region expanded the Tumor Class beta distribution to also include more heterogeneous methylation. Thus it is probable that more reads were assigned to the Tumor Class and improved sensitivity.\n",
    "\n",
    "For the subsequent comparison, the methylation level at all CpGs in a given region were considered instead of averaging.\n",
    "\n",
    "In the context of EpiClass, drawing a simple cutoff to include heterogeneously methylated reads as signal probably explains its higher performance by boosting signal, even for a small panel of loci with low read coverage.\n",
    "\n",
    "\n",
    "**The estimated sample tumor fractions using different combinations of markers based on their shape parameters have been calculated and can be found in ```*SampleTumorBurdens.txt``` files.**\n",
    "\n",
    "**The code below shows how the beta distribution shape parameters were computed, and stored in ```Supplementary_Table_S3.txt```**"
   ]
  },
  {
   "cell_type": "markdown",
   "metadata": {
    "heading_collapsed": true,
    "hidden": true
   },
   "source": [
    "### Coverage Files"
   ]
  },
  {
   "cell_type": "markdown",
   "metadata": {
    "hidden": true
   },
   "source": [
    "Coverage files for given marker region generated via ```bismark2bedGraph```\n",
    "\n",
    "Then, select the coverage for a given region by:\n",
    "\n",
    "```\n",
    "$1=\"*.CpG.dedup.cov.bgz\" # bismark2bedGraph output file for given sample\n",
    "interval=chr:start-stop\n",
    "sample=$(basename \"$1\" .bgz)\n",
    "output=$sample.CancerDetectorMarkerName.txt\n",
    "tabix -f $1 $interval > $output\n",
    "```\n",
    "\n",
    "Sample coverage files for each regions stored in separate directories"
   ]
  },
  {
   "cell_type": "markdown",
   "metadata": {
    "heading_collapsed": true,
    "hidden": true
   },
   "source": [
    "### Marker6263"
   ]
  },
  {
   "cell_type": "markdown",
   "metadata": {
    "hidden": true
   },
   "source": [
    "Methylation levels at CpGs in given region for the WGBS samples:"
   ]
  },
  {
   "cell_type": "raw",
   "metadata": {
    "ExecuteTime": {
     "end_time": "2020-06-01T22:39:46.539126Z",
     "start_time": "2020-06-01T22:39:45.618687Z"
    },
    "hidden": true
   },
   "source": [
    "coverageFileDir = \"Marker6263coverageFiles/\"\n",
    "\n",
    "coverageFiles6263 = []\n",
    "for (dirpath, dirnames, filenames) in os.walk(coverageFileDir):\n",
    "    coverageFiles6263.extend(filenames)\n",
    "    break\n",
    "\n",
    "# include methylation levels for all CpGs sites in a region.\n",
    "wgbsMethylationLevels6263 = pd.DataFrame()\n",
    "for f in coverageFiles6263:\n",
    "    if \"CancerDetectorMarker6263.txt\" in f:\n",
    "        sample = f.split('.')[0]\n",
    "        filepath = coverageFileDir + f\n",
    "        \n",
    "        df = pd.read_table(filepath, header=None)\n",
    "        \n",
    "        # make indices specific coords of CpGs.\n",
    "        # in combined table, will have NaNs for samples with no coverage at a given CpG\n",
    "        indices = df.iloc[:,0] + \":\" + df.iloc[:,1].astype(str)\n",
    "        methylation = pd.DataFrame(df.iloc[:,3].values, columns=[sample], index=indices)\n",
    "        wgbsMethylationLevels6263 = pd.concat([wgbsMethylationLevels6263, methylation], axis=1, sort=False)\n",
    "\n",
    "# if methylation level average acorss region:\n",
    "# samples = []\n",
    "# methylation = []\n",
    "# for f in coverageFiles6263:\n",
    "#     if \"CancerDetectorMarker6263.txt\" in f:\n",
    "#         sample = f.split('.')[0]\n",
    "#         filepath = coverageFileDir + f\n",
    "        \n",
    "#         df = pd.read_table(filepath, header=None)\n",
    "#         meCpGs = df.iloc[:,4].sum()\n",
    "#         UCpGs = df.iloc[:,5].sum()\n",
    "#         methLevel = meCpGs / (meCpGs + UCpGs)\n",
    "        \n",
    "#         samples.append(sample)\n",
    "#         methylation.append(methLevel)\n",
    "\n",
    "# wgbsMethylationLevels6263 = pd.Series(methylation, index=[samples])\n",
    "# wgbsMethylationLevels6263"
   ]
  },
  {
   "cell_type": "markdown",
   "metadata": {
    "hidden": true
   },
   "source": [
    "Methylation 450K beta values  for the associated marker probes:"
   ]
  },
  {
   "cell_type": "raw",
   "metadata": {
    "ExecuteTime": {
     "end_time": "2020-06-01T22:39:46.548799Z",
     "start_time": "2020-06-01T22:39:46.541321Z"
    },
    "hidden": true
   },
   "source": [
    "tumors6263 = top3markerProbes.loc[Marker6263probeIDs, tumorBarcodes]\n",
    "normals6263 = top3markerProbes.loc[Marker6263probeIDs, normalBarcodes]"
   ]
  },
  {
   "cell_type": "markdown",
   "metadata": {
    "hidden": true
   },
   "source": [
    "For each run, combine methylation levels of 450K and WGBS samples, and compute shape parameters."
   ]
  },
  {
   "cell_type": "raw",
   "metadata": {
    "ExecuteTime": {
     "end_time": "2020-06-01T22:39:49.705051Z",
     "start_time": "2020-06-01T22:39:46.551461Z"
    },
    "hidden": true
   },
   "source": [
    "tumorClassBetas = tumors6263.values.ravel()\n",
    "normalClassBetas = normals6263.values.ravel()\n",
    "\n",
    "# if averaging across a region:\n",
    "# tumorClassBetas = tumors6263.mean()\n",
    "# normalClassBetas = normals6263.mean()\n",
    "\n",
    "NshapeParams = []\n",
    "TshapeParams = []\n",
    "for run in np.arange(numRuns):\n",
    "    \n",
    "    controlTrainingSamples = trials.loc[runNames[run], 'Control Training'].split(\" \")\n",
    "    \n",
    "# if methylation level value for each CpG in region:\n",
    "    wgbsControlLevels = wgbsMethylationLevels6263[controlTrainingSamples].values.ravel()\n",
    "    wgbsControlLevels = wgbsControlLevels[~np.isnan(wgbsControlLevels)] / 100.0\n",
    "    \n",
    "# if averaging across a region:\n",
    "#     wgbsControlLevels = wgbsMethylationLevels6263[controlTrainingSamples]\n",
    "    \n",
    "    controlLevelsCombined = np.concatenate([normalClassBetas, wgbsControlLevels])\n",
    "    \n",
    "    aN, bN, locN, scaleN = beta.fit(controlLevelsCombined)\n",
    "    \n",
    "    if (aN+bN)>160:\n",
    "        # gamma(x+y+1) in scipy will be possibly \"inf\", so approximate it\n",
    "        # by scaling alpha and beta so that alpha+beta=160\n",
    "        aN = aN*160.0/(aN+bN)\n",
    "        bN = bN*160.0/(aN+bN)\n",
    "    \n",
    "#     print(aN)\n",
    "#     print(bN)\n",
    "#     plt.hist(controlLevelsCombined, bins=20, density=False)\n",
    "#     plt.title(\"Distriubtion of Control Training Methylation Levels\")\n",
    "#     plt.show()\n",
    "    \n",
    "#     randomDistN = beta.rvs(aN, bN, size=10000)\n",
    "#     plt.hist(randomDistN, bins=20, density=True)\n",
    "#     plt.title(\"PDF of Control Random Dist. using fitted Beta Dist.\")\n",
    "#     plt.show()\n",
    "    \n",
    "    Nparams = \"{}:{}\".format(round(aN, 3), round(bN, 3))\n",
    "    NshapeParams.append(Nparams)\n",
    "    \n",
    "    #-------------------------------------------------------------------\n",
    "    aT, bT, locT, scaleT = beta.fit(tumorClassBetas)\n",
    "    \n",
    "    if (aT+bT)>160:\n",
    "        # gamma(x+y+1) in scipy will be possibly \"inf\", so approximate it\n",
    "        # by scaling alpha and beta so that alpha+beta=160\n",
    "        aT = aT*160.0/(aT+bT)\n",
    "        bT = bT*160.0/(aT+bT)\n",
    "\n",
    "#     print(aT)\n",
    "#     print(bT)\n",
    "#     plt.hist(tumorClassBetas, bins=20, density=False)\n",
    "#     plt.title(\"Distriubtion of Tumor Training Methylation Levels\")\n",
    "#     plt.show()\n",
    "    \n",
    "#     randomDistT = beta.rvs(aT, bT, size=10000)\n",
    "#     plt.hist(randomDistT, bins=20, density=True)\n",
    "#     plt.title(\"PDF of Tumor Random Dist. using fitted Beta Dist.\")\n",
    "#     plt.show()\n",
    "\n",
    "#     print(\" \")\n",
    "#     print(\" \")\n",
    "#     print(\" \")\n",
    "    \n",
    "    Tparams = \"{}:{}\".format(round(aT, 3), round(bT, 3))\n",
    "    TshapeParams.append(Tparams)\n",
    "        \n",
    "\n",
    "trials['tumor_6263'] = TshapeParams\n",
    "trials['normal_plasma_6263'] = NshapeParams\n",
    "\n",
    "# trials.to_csv(\"sampleTrainTestRunsWithShapeParams.csv\")\n",
    "# trials"
   ]
  },
  {
   "cell_type": "markdown",
   "metadata": {
    "heading_collapsed": true,
    "hidden": true
   },
   "source": [
    "### Marker5594"
   ]
  },
  {
   "cell_type": "markdown",
   "metadata": {
    "hidden": true
   },
   "source": [
    "Methylation levels at CpGs in given region for the WGBS samples:"
   ]
  },
  {
   "cell_type": "raw",
   "metadata": {
    "ExecuteTime": {
     "end_time": "2020-06-01T22:39:50.557821Z",
     "start_time": "2020-06-01T22:39:49.707006Z"
    },
    "hidden": true
   },
   "source": [
    "coverageFileDir = \"Marker5594coverageFiles/\"\n",
    "\n",
    "coverageFiles5594 = []\n",
    "for (dirpath, dirnames, filenames) in os.walk(coverageFileDir):\n",
    "    coverageFiles5594.extend(filenames)\n",
    "    break\n",
    "\n",
    "# include methylation levels for all CpGs sites in a region.\n",
    "wgbsMethylationLevels5594 = pd.DataFrame()\n",
    "for f in coverageFiles5594:\n",
    "    if \"CancerDetectorMarker5594.txt\" in f:\n",
    "        sample = f.split('.')[0]\n",
    "        filepath = coverageFileDir + f\n",
    "        \n",
    "        df = pd.read_table(filepath, header=None)\n",
    "        \n",
    "        # make indices specific coords of CpGs.\n",
    "        # in combined table, will have NaNs for samples with no coverage at a given CpG\n",
    "        indices = df.iloc[:,0] + \":\" + df.iloc[:,1].astype(str)\n",
    "        methylation = pd.DataFrame(df.iloc[:,3].values, columns=[sample], index=indices)\n",
    "        wgbsMethylationLevels5594 = pd.concat([wgbsMethylationLevels5594, methylation], axis=1, sort=False)\n",
    " \n",
    "# if methylation level average acorss region:\n",
    "# samples = []\n",
    "# methylation = []\n",
    "# for f in coverageFiles5594:\n",
    "#     if \"CancerDetectorMarker5594.txt\" in f:\n",
    "#         sample = f.split('.')[0]\n",
    "#         filepath = coverageFileDir + f\n",
    "        \n",
    "#         df = pd.read_table(filepath, header=None)\n",
    "#         meCpGs = df.iloc[:,4].sum()\n",
    "#         UCpGs = df.iloc[:,5].sum()\n",
    "#         methLevel = meCpGs / (meCpGs + UCpGs)\n",
    "        \n",
    "#         samples.append(sample)\n",
    "#         methylation.append(methLevel)\n",
    "\n",
    "# wgbsMethylationLevels5594 = pd.Series(methylation, index=[samples])\n",
    "# wgbsMethylationLevels5594"
   ]
  },
  {
   "cell_type": "markdown",
   "metadata": {
    "hidden": true
   },
   "source": [
    "Methylation 450K beta values  for the associated marker probes:"
   ]
  },
  {
   "cell_type": "raw",
   "metadata": {
    "ExecuteTime": {
     "end_time": "2020-06-01T22:39:50.569512Z",
     "start_time": "2020-06-01T22:39:50.560534Z"
    },
    "hidden": true
   },
   "source": [
    "tumors5594 = top3markerProbes.loc[Marker5594probeIDs, tumorBarcodes]\n",
    "normals5594 = top3markerProbes.loc[Marker5594probeIDs, normalBarcodes]"
   ]
  },
  {
   "cell_type": "markdown",
   "metadata": {
    "hidden": true
   },
   "source": [
    "For each run, combine methylation levels of 450K and WGBS samples, and compute shape parameters."
   ]
  },
  {
   "cell_type": "raw",
   "metadata": {
    "ExecuteTime": {
     "end_time": "2020-06-01T22:39:53.356410Z",
     "start_time": "2020-06-01T22:39:50.572933Z"
    },
    "hidden": true
   },
   "source": [
    "tumorClassBetas = tumors5594.values.ravel()\n",
    "normalClassBetas = normals5594.values.ravel()\n",
    "\n",
    "# if averaging across a region:\n",
    "# tumorClassBetas = tumors5594.mean()\n",
    "# normalClassBetas = normals5594.mean()\n",
    "\n",
    "NshapeParams = []\n",
    "TshapeParams = []\n",
    "for run in np.arange(numRuns):\n",
    "    \n",
    "    controlTrainingSamples = trials.loc[runNames[run], 'Control Training'].split(\" \")\n",
    "    \n",
    "# if methylation level value for each CpG in region:\n",
    "    wgbsControlLevels = wgbsMethylationLevels5594[controlTrainingSamples].values.ravel()\n",
    "    wgbsControlLevels = wgbsControlLevels[~np.isnan(wgbsControlLevels)] / 100.0\n",
    "    \n",
    "# if averaging across a region:\n",
    "#     wgbsControlLevels = wgbsMethylationLevels5594[controlTrainingSamples]\n",
    "    \n",
    "    controlLevelsCombined = np.concatenate([normalClassBetas, wgbsControlLevels])\n",
    "    \n",
    "    aN, bN, locN, scaleN = beta.fit(controlLevelsCombined)\n",
    "    \n",
    "    if (aN+bN)>160:\n",
    "        # gamma(x+y+1) in scipy will be possibly \"inf\", so approximate it\n",
    "        # by scaling alpha and beta so that alpha+beta=160\n",
    "        aN = aN*160.0/(aN+bN)\n",
    "        bN = bN*160.0/(aN+bN)\n",
    "    \n",
    "#     print(aN)\n",
    "#     print(bN)\n",
    "#     plt.hist(controlLevelsCombined, bins=20, density=False)\n",
    "#     plt.title(\"Distriubtion of Control Training Methylation Levels\")\n",
    "#     plt.show()\n",
    "    \n",
    "#     randomDistN = beta.rvs(aN, bN, size=10000)\n",
    "#     plt.hist(randomDistN, bins=20, density=True)\n",
    "#     plt.title(\"PDF of Control Random Dist. using fitted Beta Dist.\")\n",
    "#     plt.show()\n",
    "    \n",
    "    Nparams = \"{}:{}\".format(round(aN, 3), round(bN, 3))\n",
    "    NshapeParams.append(Nparams)\n",
    "    \n",
    "    #-------------------------------------------------------------------\n",
    "    aT, bT, locT, scaleT = beta.fit(tumorClassBetas)\n",
    "    \n",
    "    if (aT+bT)>160:\n",
    "        # gamma(x+y+1) in scipy will be possibly \"inf\", so approximate it\n",
    "        # by scaling alpha and beta so that alpha+beta=160\n",
    "        aT = aT*160.0/(aT+bT)\n",
    "        bT = bT*160.0/(aT+bT)\n",
    "\n",
    "#     print(aT)\n",
    "#     print(bT)\n",
    "#     plt.hist(tumorClassBetas, bins=20, density=False)\n",
    "#     plt.title(\"Distriubtion of Tumor Training Methylation Levels\")\n",
    "#     plt.show()\n",
    "    \n",
    "#     randomDistT = beta.rvs(aT, bT, size=10000)\n",
    "#     plt.hist(randomDistT, bins=20, density=True)\n",
    "#     plt.title(\"PDF of Tumor Random Dist. using fitted Beta Dist.\")\n",
    "#     plt.show()\n",
    "\n",
    "#     print(\" \")\n",
    "#     print(\" \")\n",
    "#     print(\" \")\n",
    "    \n",
    "    Tparams = \"{}:{}\".format(round(aT, 3), round(bT, 3))\n",
    "    TshapeParams.append(Tparams)\n",
    "        \n",
    "\n",
    "trials['tumor_5594'] = TshapeParams\n",
    "trials['normal_plasma_5594'] = NshapeParams\n",
    "\n",
    "# trials.to_csv(\"sampleTrainTestRunsWithShapeParams.csv\")\n",
    "# trials"
   ]
  },
  {
   "cell_type": "markdown",
   "metadata": {
    "heading_collapsed": true,
    "hidden": true
   },
   "source": [
    "### Marker29305"
   ]
  },
  {
   "cell_type": "markdown",
   "metadata": {
    "hidden": true
   },
   "source": [
    "Methylation levels at CpGs in given region for the WGBS samples:"
   ]
  },
  {
   "cell_type": "raw",
   "metadata": {
    "ExecuteTime": {
     "end_time": "2020-06-01T22:39:54.217224Z",
     "start_time": "2020-06-01T22:39:53.358309Z"
    },
    "hidden": true
   },
   "source": [
    "coverageFileDir = \"Marker29305coverageFiles/\"\n",
    "\n",
    "coverageFiles29305 = []\n",
    "for (dirpath, dirnames, filenames) in os.walk(coverageFileDir):\n",
    "    coverageFiles29305.extend(filenames)\n",
    "    break\n",
    "\n",
    "# include methylation levels for all CpGs sites in a region.\n",
    "wgbsMethylationLevels29305 = pd.DataFrame()\n",
    "for f in coverageFiles29305:\n",
    "    if \"CancerDetectorMarker29305.txt\" in f:\n",
    "        sample = f.split('.')[0]\n",
    "        filepath = coverageFileDir + f\n",
    "        \n",
    "        df = pd.read_table(filepath, header=None)\n",
    "        \n",
    "        # make indices specific coords of CpGs.\n",
    "        # in combined table, will have NaNs for samples with no coverage at a given CpG\n",
    "        indices = df.iloc[:,0] + \":\" + df.iloc[:,1].astype(str)\n",
    "        methylation = pd.DataFrame(df.iloc[:,3].values, columns=[sample], index=indices)\n",
    "        wgbsMethylationLevels29305 = pd.concat([wgbsMethylationLevels29305, methylation], axis=1, sort=False)\n",
    " \n",
    "# if methylation level average acorss region:\n",
    "# samples = []\n",
    "# methylation = []\n",
    "# for f in coverageFiles29305:\n",
    "#     if \"CancerDetectorMarker29305.txt\" in f:\n",
    "#         sample = f.split('.')[0]\n",
    "#         filepath = coverageFileDir + f\n",
    "        \n",
    "#         df = pd.read_table(filepath, header=None)\n",
    "#         meCpGs = df.iloc[:,4].sum()\n",
    "#         UCpGs = df.iloc[:,5].sum()\n",
    "#         methLevel = meCpGs / (meCpGs + UCpGs)\n",
    "        \n",
    "#         samples.append(sample)\n",
    "#         methylation.append(methLevel)\n",
    "\n",
    "# wgbsMethylationLevels29305 = pd.Series(methylation, index=[samples])\n",
    "# wgbsMethylationLevels29305"
   ]
  },
  {
   "cell_type": "markdown",
   "metadata": {
    "hidden": true
   },
   "source": [
    "Methylation 450K beta values  for the associated marker probes:"
   ]
  },
  {
   "cell_type": "raw",
   "metadata": {
    "ExecuteTime": {
     "end_time": "2020-06-01T22:39:54.225664Z",
     "start_time": "2020-06-01T22:39:54.219083Z"
    },
    "hidden": true
   },
   "source": [
    "tumors29305 = top3markerProbes.loc[Marker29305probeIDs, tumorBarcodes]\n",
    "normals29305 = top3markerProbes.loc[Marker29305probeIDs, normalBarcodes]"
   ]
  },
  {
   "cell_type": "markdown",
   "metadata": {
    "hidden": true
   },
   "source": [
    "For each run, combine methylation levels of 450K and WGBS samples, and compute shape parameters."
   ]
  },
  {
   "cell_type": "raw",
   "metadata": {
    "ExecuteTime": {
     "end_time": "2020-06-01T22:39:57.949420Z",
     "start_time": "2020-06-01T22:39:54.227956Z"
    },
    "hidden": true
   },
   "source": [
    "tumorClassBetas = tumors29305.values.ravel()\n",
    "normalClassBetas = normals29305.values.ravel()\n",
    "\n",
    "# if averaging across a region:\n",
    "# tumorClassBetas = tumors29305.mean()\n",
    "# normalClassBetas = normals29305.mean()\n",
    "\n",
    "NshapeParams = []\n",
    "TshapeParams = []\n",
    "for run in np.arange(numRuns):\n",
    "    \n",
    "    controlTrainingSamples = trials.loc[runNames[run], 'Control Training'].split(\" \")\n",
    "    \n",
    "# if methylation level value for each CpG in region:\n",
    "    wgbsControlLevels = wgbsMethylationLevels29305[controlTrainingSamples].values.ravel()\n",
    "    wgbsControlLevels = wgbsControlLevels[~np.isnan(wgbsControlLevels)] / 100.0\n",
    "    \n",
    "# if averaging across a region:\n",
    "#     wgbsControlLevels = wgbsMethylationLevels29305[controlTrainingSamples]\n",
    "    \n",
    "    controlLevelsCombined = np.concatenate([normalClassBetas, wgbsControlLevels])\n",
    "    \n",
    "    aN, bN, locN, scaleN = beta.fit(controlLevelsCombined)\n",
    "    \n",
    "    if (aN+bN)>160:\n",
    "        # gamma(x+y+1) in scipy will be possibly \"inf\", so approximate it\n",
    "        # by scaling alpha and beta so that alpha+beta=160\n",
    "        aN = aN*160.0/(aN+bN)\n",
    "        bN = bN*160.0/(aN+bN)\n",
    "    \n",
    "#     print(aN)\n",
    "#     print(bN)\n",
    "#     plt.hist(controlLevelsCombined, bins=20, density=False)\n",
    "#     plt.title(\"Distriubtion of Control Training Methylation Levels\")\n",
    "#     plt.show()\n",
    "    \n",
    "#     randomDistN = beta.rvs(aN, bN, size=10000)\n",
    "#     plt.hist(randomDistN, bins=20, density=True)\n",
    "#     plt.title(\"PDF of Control Random Dist. using fitted Beta Dist.\")\n",
    "#     plt.show()\n",
    "    \n",
    "    Nparams = \"{}:{}\".format(round(aN, 3), round(bN, 3))\n",
    "    NshapeParams.append(Nparams)\n",
    "    \n",
    "    #-------------------------------------------------------------------\n",
    "    aT, bT, locT, scaleT = beta.fit(tumorClassBetas)\n",
    "    \n",
    "    if (aT+bT)>160:\n",
    "        # gamma(x+y+1) in scipy will be possibly \"inf\", so approximate it\n",
    "        # by scaling alpha and beta so that alpha+beta=160\n",
    "        aT = aT*160.0/(aT+bT)\n",
    "        bT = bT*160.0/(aT+bT)\n",
    "\n",
    "#     print(aT)\n",
    "#     print(bT)\n",
    "#     plt.hist(tumorClassBetas, bins=20, density=False)\n",
    "#     plt.title(\"Distriubtion of Tumor Training Methylation Levels\")\n",
    "#     plt.show()\n",
    "    \n",
    "#     randomDistT = beta.rvs(aT, bT, size=10000)\n",
    "#     plt.hist(randomDistT, bins=20, density=True)\n",
    "#     plt.title(\"PDF of Tumor Random Dist. using fitted Beta Dist.\")\n",
    "#     plt.show()\n",
    "\n",
    "#     print(\" \")\n",
    "#     print(\" \")\n",
    "#     print(\" \")\n",
    "    \n",
    "    Tparams = \"{}:{}\".format(round(aT, 3), round(bT, 3))\n",
    "    TshapeParams.append(Tparams)\n",
    "        \n",
    "\n",
    "trials['tumor_29305'] = TshapeParams\n",
    "trials['normal_plasma_29305'] = NshapeParams\n",
    "\n",
    "# trials.to_csv(\"sampleTrainTestRunsWithShapeParams.csv\")\n",
    "# trials"
   ]
  },
  {
   "cell_type": "markdown",
   "metadata": {
    "heading_collapsed": true,
    "hidden": true
   },
   "source": [
    "### ZNF154"
   ]
  },
  {
   "cell_type": "markdown",
   "metadata": {
    "hidden": true
   },
   "source": [
    "Methylation levels at CpGs in given region for the WGBS samples:"
   ]
  },
  {
   "cell_type": "raw",
   "metadata": {
    "ExecuteTime": {
     "end_time": "2020-06-01T22:39:58.781483Z",
     "start_time": "2020-06-01T22:39:57.951617Z"
    },
    "hidden": true
   },
   "source": [
    "coverageFileDir = \"MarkerZNF154coverageFiles/\"\n",
    "\n",
    "coverageFilesZNF154 = []\n",
    "for (dirpath, dirnames, filenames) in os.walk(coverageFileDir):\n",
    "    coverageFilesZNF154.extend(filenames)\n",
    "    break\n",
    "\n",
    "# include methylation levels for all CpGs sites in a region.\n",
    "wgbsMethylationLevelsZNF154 = pd.DataFrame()\n",
    "for f in coverageFilesZNF154:\n",
    "    if \"CancerDetectorZNF154.txt\" in f:\n",
    "        sample = f.split('.')[0]\n",
    "        filepath = coverageFileDir + f\n",
    "        \n",
    "        df = pd.read_table(filepath, header=None)\n",
    "        \n",
    "        # make indices specific coords of CpGs.\n",
    "        # in combined table, will have NaNs for samples with no coverage at a given CpG\n",
    "        indices = df.iloc[:,0] + \":\" + df.iloc[:,1].astype(str)\n",
    "        methylation = pd.DataFrame(df.iloc[:,3].values, columns=[sample], index=indices)\n",
    "        wgbsMethylationLevelsZNF154 = pd.concat([wgbsMethylationLevelsZNF154, methylation], axis=1, sort=False)\n",
    "\n",
    "# if methylation level average acorss region:\n",
    "# samples = []\n",
    "# methylation = []\n",
    "# for f in coverageFilesZNF154:\n",
    "#     if \"CancerDetectorMarkerZNF154.txt\" in f:\n",
    "#         sample = f.split('.')[0]\n",
    "#         filepath = coverageFileDir + f\n",
    "        \n",
    "#         df = pd.read_table(filepath, header=None)\n",
    "#         meCpGs = df.iloc[:,4].sum()\n",
    "#         UCpGs = df.iloc[:,5].sum()\n",
    "#         methLevel = meCpGs / (meCpGs + UCpGs)\n",
    "        \n",
    "#         samples.append(sample)\n",
    "#         methylation.append(methLevel)\n",
    "\n",
    "# wgbsMethylationLevelsZNF154 = pd.Series(methylation, index=[samples])\n",
    "# wgbsMethylationLevelsZNF154"
   ]
  },
  {
   "cell_type": "markdown",
   "metadata": {
    "hidden": true
   },
   "source": [
    "Methylation 450K beta values  for the associated marker probes:"
   ]
  },
  {
   "cell_type": "raw",
   "metadata": {
    "ExecuteTime": {
     "end_time": "2020-06-01T22:39:58.839303Z",
     "start_time": "2020-06-01T22:39:58.784037Z"
    },
    "hidden": true
   },
   "source": [
    "LIHC_BMIQ_ZNF = pd.read_table('BMIQ_LIHC_CancerDetectorZNFprobes.txt', index_col=0)\n",
    "LIHC_BMIQ_ZNF.columns = [i[:15] for i in LIHC_BMIQ_ZNF.columns]"
   ]
  },
  {
   "cell_type": "raw",
   "metadata": {
    "ExecuteTime": {
     "end_time": "2020-06-01T22:39:58.847371Z",
     "start_time": "2020-06-01T22:39:58.841489Z"
    },
    "hidden": true
   },
   "source": [
    "tumorsZNF154 = LIHC_BMIQ_ZNF.loc[:, tumorBarcodes]\n",
    "normalsZNF154 = LIHC_BMIQ_ZNF.loc[:, normalBarcodes]"
   ]
  },
  {
   "cell_type": "markdown",
   "metadata": {
    "hidden": true
   },
   "source": [
    "For each run, combine methylation levels of 450K and WGBS samples, and compute shape parameters."
   ]
  },
  {
   "cell_type": "raw",
   "metadata": {
    "ExecuteTime": {
     "end_time": "2020-06-01T22:40:02.806527Z",
     "start_time": "2020-06-01T22:39:58.849856Z"
    },
    "hidden": true
   },
   "source": [
    "tumorClassBetas = tumorsZNF154.values.ravel()\n",
    "normalClassBetas = normalsZNF154.values.ravel()\n",
    "\n",
    "# if averaging across a region:\n",
    "# tumorClassBetas = tumorsZNF154.mean()\n",
    "# normalClassBetas = normalsZNF154.mean()\n",
    "\n",
    "NshapeParams = []\n",
    "TshapeParams = []\n",
    "for run in np.arange(numRuns):\n",
    "    \n",
    "    controlTrainingSamples = trials.loc[runNames[run], 'Control Training'].split(\" \")\n",
    "    \n",
    "# if methylation level value for each CpG in region:\n",
    "    wgbsControlLevels = wgbsMethylationLevelsZNF154[controlTrainingSamples].values.ravel()\n",
    "    wgbsControlLevels = wgbsControlLevels[~np.isnan(wgbsControlLevels)] / 100.0\n",
    "    \n",
    "# if averaging across a region:\n",
    "#     wgbsControlLevels = wgbsMethylationLevelsZNF154[controlTrainingSamples]\n",
    "    \n",
    "    controlLevelsCombined = np.concatenate([normalClassBetas, wgbsControlLevels])\n",
    "    \n",
    "    aN, bN, locN, scaleN = beta.fit(controlLevelsCombined)\n",
    "    \n",
    "    if (aN+bN)>160:\n",
    "        # gamma(x+y+1) in scipy will be possibly \"inf\", so approximate it\n",
    "        # by scaling alpha and beta so that alpha+beta=160\n",
    "        aN = aN*160.0/(aN+bN)\n",
    "        bN = bN*160.0/(aN+bN)\n",
    "    \n",
    "#     print(aN)\n",
    "#     print(bN)\n",
    "#     plt.hist(controlLevelsCombined, bins=20, density=False)\n",
    "#     plt.title(\"Distriubtion of Control Training Methylation Levels\")\n",
    "#     plt.show()\n",
    "    \n",
    "#     randomDistN = beta.rvs(aN, bN, size=10000)\n",
    "#     plt.hist(randomDistN, bins=20, density=True)\n",
    "#     plt.title(\"PDF of Control Random Dist. using fitted Beta Dist.\")\n",
    "#     plt.show()\n",
    "    \n",
    "    Nparams = \"{}:{}\".format(round(aN, 3), round(bN, 3))\n",
    "    NshapeParams.append(Nparams)\n",
    "    \n",
    "    #-------------------------------------------------------------------\n",
    "    aT, bT, locT, scaleT = beta.fit(tumorClassBetas)\n",
    "    \n",
    "    if (aT+bT)>160:\n",
    "        # gamma(x+y+1) in scipy will be possibly \"inf\", so approximate it\n",
    "        # by scaling alpha and beta so that alpha+beta=160\n",
    "        aT = aT*160.0/(aT+bT)\n",
    "        bT = bT*160.0/(aT+bT)\n",
    "\n",
    "#     print(aT)\n",
    "#     print(bT)\n",
    "#     plt.hist(tumorClassBetas, bins=20, density=False)\n",
    "#     plt.title(\"Distriubtion of Tumor Training Methylation Levels\")\n",
    "#     plt.show()\n",
    "    \n",
    "#     randomDistT = beta.rvs(aT, bT, size=10000)\n",
    "#     plt.hist(randomDistT, bins=20, density=True)\n",
    "#     plt.title(\"PDF of Tumor Random Dist. using fitted Beta Dist.\")\n",
    "#     plt.show()\n",
    "\n",
    "#     print(\" \")\n",
    "#     print(\" \")\n",
    "#     print(\" \")\n",
    "    \n",
    "    Tparams = \"{}:{}\".format(round(aT, 3), round(bT, 3))\n",
    "    TshapeParams.append(Tparams)\n",
    "        \n",
    "\n",
    "trials['tumor_ZNF154'] = TshapeParams\n",
    "trials['normal_plasma_ZNF154'] = NshapeParams\n",
    "\n",
    "# trials.to_csv(\"sampleTrainTestRunsWithShapeParams.csv\")\n",
    "# trials"
   ]
  },
  {
   "cell_type": "markdown",
   "metadata": {
    "heading_collapsed": true,
    "hidden": true
   },
   "source": [
    "## Generate Marker and Sample Read Input Files"
   ]
  },
  {
   "cell_type": "markdown",
   "metadata": {
    "heading_collapsed": true,
    "hidden": true
   },
   "source": [
    "### Notes and function to make inputs"
   ]
  },
  {
   "cell_type": "markdown",
   "metadata": {
    "hidden": true
   },
   "source": [
    "CancerDetector requires a marker input file, which has the class shape parameters for Tumor Class and the Normal Class, for each marker being considered to compute sample tumor fraction.\n",
    "\n",
    "For each sample, it also requires a read input file, which has the methylation patterns as 0 = unmethylated and 1 = methylated for reads aligned to each marker region being considered.\n",
    "\n",
    "**The estimated sample tumor fractions using different combinations of markers based on their shape parameters have been calculated and can be found in ```*SampleTumorBurdens.txt``` files.**\n",
    "\n",
    "**The code below shows how the sample read and marker CancerDetector input files were made**"
   ]
  },
  {
   "cell_type": "raw",
   "metadata": {
    "ExecuteTime": {
     "end_time": "2020-06-01T18:52:30.837536Z",
     "start_time": "2020-06-01T18:52:30.833210Z"
    },
    "hidden": true
   },
   "source": [
    "markerDict = {\n",
    "    'ZNF154':['1', 'chr19', '58220195', '58220937'],\n",
    "    '6263':['6263', 'chr2', '208989109', '208989679'],\n",
    "    '5594':['5594', 'chr2', '127782982', '127783470'],\n",
    "    '29305':['29305', 'chr13', '107187077', '107187512']\n",
    "}"
   ]
  },
  {
   "cell_type": "raw",
   "metadata": {
    "ExecuteTime": {
     "end_time": "2020-06-01T18:55:39.705308Z",
     "start_time": "2020-06-01T18:55:39.663289Z"
    },
    "hidden": true
   },
   "source": [
    "def generateMarkerAndReadInputs(analysisLabel, dirToSampleReadFiles, markerIDs, numRuns):\n",
    "    \n",
    "    for run in np.arange(numRuns):\n",
    "\n",
    "        controlDir = dirToSampleReadFiles + 'Run_{}/Controls/'.format(run+1)\n",
    "        caseDir = dirToSampleReadFiles + 'Run_{}/Cases/'.format(run+1)\n",
    "\n",
    "        if not os.path.exists(controlDir):\n",
    "            os.makedirs(controlDir)\n",
    "        if not os.path.exists(caseDir):\n",
    "            os.makedirs(caseDir)\n",
    "\n",
    "        markerFilePath = dirToSampleReadFiles + \\\n",
    "            'Run_{}/{}.marker.run_{}'.format(run+1, analysisLabel, run+1)\n",
    "\n",
    "        # ------------------------------------------------------------------\n",
    "        # Generate Marker input files:\n",
    "        \n",
    "        # shape parameters for each marker of interest determined for each run:\n",
    "        ZNFtumorShapes = trials.loc['Run {}'.format(run+1), 'tumor_ZNF154']\n",
    "        ZNFnormalShapes = trials.loc['Run {}'.format(run+1), 'normal_plasma_ZNF154']\n",
    "\n",
    "        marker6263tumorShapes = trials.loc['Run {}'.format(run+1), 'tumor_6263']\n",
    "        marker6263normalShapes = trials.loc['Run {}'.format(\n",
    "            run+1), 'normal_plasma_6263']\n",
    "\n",
    "        marker5594tumorShapes = trials.loc['Run {}'.format(run+1), 'tumor_5594']\n",
    "        marker5594normalShapes = trials.loc['Run {}'.format(\n",
    "            run+1), 'normal_plasma_5594']\n",
    "\n",
    "        marker29305tumorShapes = trials.loc['Run {}'.format(run+1), 'tumor_29305']\n",
    "        marker29305normalShapes = trials.loc['Run {}'.format(\n",
    "            run+1), 'normal_plasma_29305']\n",
    "        \n",
    "        with open(markerFilePath, 'w') as f:\n",
    "            f.write('marker_index' + '\\t' + 'chr' + '\\t' + 'start' + '\\t' +\n",
    "                    'end' + '\\t' + 'tumor' + '\\t' + 'normal_plasma' + '\\n')\n",
    "            \n",
    "            for marker in markerIDs:\n",
    "                if marker == 'ZNF154':\n",
    "                    tumorShapes = ZNFtumorShapes\n",
    "                    normalShapes = ZNFnormalShapes\n",
    "                \n",
    "                if marker == '6263':\n",
    "                    tumorShapes = marker6263tumorShapes\n",
    "                    normalShapes = marker6263normalShapes\n",
    "                \n",
    "                if marker == '5594':\n",
    "                    tumorShapes = marker5594tumorShapes\n",
    "                    normalShapes = marker5594normalShapes\n",
    "                \n",
    "                if marker == '29305':\n",
    "                    tumorShapes = marker29305tumorShapes\n",
    "                    normalShapes = marker29305normalShapes\n",
    "                    \n",
    "                f.write(markerDict[marker][0] + '\\t' + markerDict[marker][1] + '\\t' + markerDict[marker][2] + '\\t' + markerDict[marker][3] +\n",
    "                    '\\t' + tumorShapes + '\\t' + normalShapes + '\\n')\n",
    "\n",
    "        # ------------------------------------------------------------------\n",
    "        # Generate control read files for given test sample set run:\n",
    "        \n",
    "        controlTestSamples = trials.loc[runNames[run], 'Control Test'].split(\" \")\n",
    "        for control in controlTestSamples:\n",
    "\n",
    "            controlFilePath = controlDir + \\\n",
    "                '{}.reads.{}.{}'.format(analysisLabel, control, 'run_' + str(run+1))\n",
    "\n",
    "            readTable = pd.DataFrame(\n",
    "                columns=['marker_index', 'num_CpG_sites', 'sites_methylation_status'])\n",
    "\n",
    "            for marker in markerIDs:\n",
    "                label = markerDict[marker][0]\n",
    "                \n",
    "                # get appropriate READtoMD.DT file\n",
    "                if marker == 'ZNF154':\n",
    "                    readtomd = pd.read_csv(\n",
    "                        'READtoMDtables/READtoMD.DT.' + 'markerZNF154' + '.csv')\n",
    "                else:\n",
    "                    readtomd = pd.read_csv(\n",
    "                        'READtoMDtables/READtoMD.DT.' + 'marker' + str(marker) + '.csv')\n",
    "\n",
    "                cpgPatterns = readtomd[['numU', 'numM']]\n",
    "                cpgPatterns['Upattern'] = cpgPatterns['numU'].apply(\n",
    "                    lambda x: '0' * x)\n",
    "                cpgPatterns['Mpattern'] = cpgPatterns['numM'].apply(\n",
    "                    lambda x: '1' * x)\n",
    "                cpgPatterns['pattern'] = cpgPatterns['Upattern'] + \\\n",
    "                    cpgPatterns['Mpattern']\n",
    "\n",
    "                reads = []\n",
    "                patternCounts = readtomd[control].dropna()\n",
    "                for index, patternCount in patternCounts.iteritems():\n",
    "                    pattern = [cpgPatterns.loc[index, 'pattern']]\n",
    "                    reads.append([p for p, c in zip(pattern, [int(patternCount)])\n",
    "                                  for _ in range(c)])\n",
    "                    \n",
    "                readPatternList = [item for sublist in reads for item in sublist]\n",
    "\n",
    "                numCpGs = [len(i) for i in readPatternList]\n",
    "                markerIndex = [label] * len(readPatternList)\n",
    "                \n",
    "                data = pd.DataFrame(np.array([markerIndex, numCpGs, readPatternList]).T, columns=[\n",
    "                    'marker_index', 'num_CpG_sites', 'sites_methylation_status'])\n",
    "\n",
    "                readTable = pd.concat([readTable, data])\n",
    "\n",
    "            readTable.to_csv(controlFilePath, sep='\\t', index=False)\n",
    "\n",
    "        # ------------------------------------------------------------------\n",
    "        # Generate case read input files for given test sample set run:\n",
    "        \n",
    "        caseTestSamples = trials.loc[runNames[run], 'Case Test'].split(\" \")\n",
    "        for case in caseTestSamples:\n",
    "\n",
    "            caseFilePath = caseDir + \\\n",
    "                '{}.reads.{}.{}'.format(analysisLabel, case, 'run_' + str(run+1))\n",
    "\n",
    "            readTable = pd.DataFrame(\n",
    "                columns=['marker_index', 'num_CpG_sites', 'sites_methylation_status'])\n",
    "\n",
    "            for marker in markerIDs:\n",
    "                label = markerDict[marker][0]\n",
    "    \n",
    "                # get appropriate READtoMD.DT file\n",
    "                if marker == 'ZNF154':\n",
    "                    readtomd = pd.read_csv(\n",
    "                        'READtoMDtables/READtoMD.DT.' + 'markerZNF154' + '.csv')\n",
    "                else:\n",
    "                    readtomd = pd.read_csv(\n",
    "                        'READtoMDtables/READtoMD.DT.' + 'marker' + str(marker) + '.csv')\n",
    "\n",
    "                cpgPatterns = readtomd[['numU', 'numM']]\n",
    "                cpgPatterns['Upattern'] = cpgPatterns['numU'].apply(\n",
    "                    lambda x: '0' * x)\n",
    "                cpgPatterns['Mpattern'] = cpgPatterns['numM'].apply(\n",
    "                    lambda x: '1' * x)\n",
    "                cpgPatterns['pattern'] = cpgPatterns['Upattern'] + \\\n",
    "                    cpgPatterns['Mpattern']\n",
    "\n",
    "                reads = []\n",
    "                patternCounts = readtomd[case].dropna()\n",
    "                for index, patternCount in patternCounts.iteritems():\n",
    "                    pattern = [cpgPatterns.loc[index, 'pattern']]\n",
    "                    reads.append([p for p, c in zip(pattern, [int(patternCount)])\n",
    "                                  for _ in range(c)])\n",
    "                readPatternList = [item for sublist in reads for item in sublist]\n",
    "\n",
    "                numCpGs = [len(i) for i in readPatternList]\n",
    "                markerIndex = [label] * len(readPatternList)\n",
    "                data = pd.DataFrame(np.array([markerIndex, numCpGs, readPatternList]).T, columns=[\n",
    "                    'marker_index', 'num_CpG_sites', 'sites_methylation_status'])\n",
    "\n",
    "                readTable = pd.concat([readTable, data])\n",
    "\n",
    "            readTable.to_csv(caseFilePath, sep='\\t', index=False)"
   ]
  },
  {
   "cell_type": "markdown",
   "metadata": {
    "heading_collapsed": true,
    "hidden": true
   },
   "source": [
    "### ZNF154 only inputs"
   ]
  },
  {
   "cell_type": "raw",
   "metadata": {
    "ExecuteTime": {
     "end_time": "2020-06-01T18:55:58.032542Z",
     "start_time": "2020-06-01T18:55:41.770722Z"
    },
    "hidden": true
   },
   "source": [
    "dirToSampleReadFiles = 'CancerDetectorComparisonZNF154/inputReadFiles/'\n",
    "markerIDs = ['ZNF154']\n",
    "numRuns = 10\n",
    "\n",
    "generateMarkerAndReadInputs('ZNF154', dirToSampleReadFiles, markerIDs, numRuns)"
   ]
  },
  {
   "cell_type": "markdown",
   "metadata": {
    "heading_collapsed": true,
    "hidden": true
   },
   "source": [
    "### Top 3 Marker inputs"
   ]
  },
  {
   "cell_type": "raw",
   "metadata": {
    "ExecuteTime": {
     "end_time": "2020-06-01T18:56:54.884145Z",
     "start_time": "2020-06-01T18:56:19.661942Z"
    },
    "hidden": true
   },
   "source": [
    "dirToSampleReadFiles = 'CancerDetectorComparisonTop3/inputReadFiles/'\n",
    "markerIDs = ['6263', '5594', '29305']\n",
    "numRuns = 10\n",
    "\n",
    "generateMarkerAndReadInputs('top3', dirToSampleReadFiles, markerIDs, numRuns)"
   ]
  },
  {
   "cell_type": "markdown",
   "metadata": {
    "heading_collapsed": true,
    "hidden": true
   },
   "source": [
    "### Top3 plus ZNF154 inputs"
   ]
  },
  {
   "cell_type": "raw",
   "metadata": {
    "ExecuteTime": {
     "end_time": "2020-06-01T18:57:42.363858Z",
     "start_time": "2020-06-01T18:56:54.886595Z"
    },
    "hidden": true
   },
   "source": [
    "dirToSampleReadFiles = 'CancerDetectorComparisonTop3plusZNF154/inputReadFiles/'\n",
    "markerIDs = ['ZNF154', '6263', '5594', '29305']\n",
    "numRuns = 10\n",
    "\n",
    "generateMarkerAndReadInputs('top3plusZNF', dirToSampleReadFiles, markerIDs, numRuns)"
   ]
  },
  {
   "cell_type": "markdown",
   "metadata": {
    "heading_collapsed": true,
    "hidden": true
   },
   "source": [
    "## Compute sample tumor read fraction"
   ]
  },
  {
   "cell_type": "markdown",
   "metadata": {
    "hidden": true
   },
   "source": [
    "```runCancerDetectorMultiRuns.sh``` to iterate through input samples and estimate their tumor fraction\n",
    "\n",
    "The output directory structure is:\n",
    "\n",
    "```\n",
    ".\n",
    "├── Run_1\n",
    "│   ├── Cases\n",
    "│   └── Controls\n",
    "├── Run_10\n",
    "│   ├── Cases\n",
    "│   └── Controls\n",
    "├── Run_2\n",
    "│   ├── Cases\n",
    "│   └── Controls\n",
    "├── Run_3\n",
    "│   ├── Cases\n",
    "│   └── Controls\n",
    "├── Run_4\n",
    "│   ├── Cases\n",
    "│   └── Controls\n",
    "├── Run_5\n",
    "│   ├── Cases\n",
    "│   └── Controls\n",
    "├── Run_6\n",
    "│   ├── Cases\n",
    "│   └── Controls\n",
    "├── Run_7\n",
    "│   ├── Cases\n",
    "│   └── Controls\n",
    "├── Run_8\n",
    "│   ├── Cases\n",
    "│   └── Controls\n",
    "└── Run_9\n",
    "    ├── Cases\n",
    "    └── Controls\n",
    "```\n",
    "\n",
    "And in a given folder is the ```SAMPLE.run_#.likelihood/tumor_burden``` files\n",
    "\n",
    "In the ```.tumor_burden``` is something like this:\n",
    "\n",
    "0.3640\t0.6360\n",
    "\n",
    "First column is estimated tumor fraction and second column is estimated normal_plasma fraction.\n",
    "\n",
    "Build ROC curves using the estimated tumor fraction of the testing sample set cases and controls for each run.\n",
    "\n",
    "10 runs so 10 curves."
   ]
  },
  {
   "cell_type": "raw",
   "metadata": {
    "hidden": true
   },
   "source": [
    "runCancerDetectorMultiRuns.sh\n",
    "\n",
    "#!/bin/bash\n",
    "\n",
    "# run this script in the parent directory of \"/inputReadFiles\"\n",
    "# for instance, in the directory: ./CancerDetectorComparisonZNF154/, which has inputReadFiles/,\n",
    "# run: ../runCancerDetector.sh ZNF154\n",
    "\n",
    "analysisLabel=$1 #ex: ZNF154, as the label, which will output files: reads.SAMPLE.run_#.tumor_burden\n",
    "fileLabelLen=`echo $analysisLabel|wc -c`\n",
    "fileLabelLen=$((${fileLabelLen} + ${1}))\n",
    "echo $fileLabelLen\n",
    "\n",
    "lambda=0.5 # a predefined lambda\n",
    "\n",
    "mkdir -p cancerDetectorOutput\n",
    "\n",
    "getLikelihoods=\"../CancerDetector/src/CalcReadLikelihood.py\"\n",
    "CancerDetector=\"../CancerDetector/src/CancerDetector.py\"\n",
    "\n",
    "readRunsDir=$(pwd)\"/inputReadFiles/\"\n",
    "\n",
    "for run in $(ls \"$readRunsDir\")\n",
    "do\n",
    "\trunNum=${run:4:2}\n",
    "\techo \"computing sample tumor burden for run \"$runNum\n",
    "\tcaseDir=$readRunsDir$run\"/Cases/\"\n",
    "\tcontrolDir=$readRunsDir$run\"/Controls/\"\n",
    "\trunMarkerFile=$readRunsDir$run\"/\"$analysisLabel\".marker.run_\"$runNum\n",
    "\n",
    "\tcasesOutDir=cancerDetectorOutput/$run\"/Cases/\"\n",
    "\tcontrolsOutDir=cancerDetectorOutput/$run\"/Controls/\"\n",
    "\n",
    "\tmkdir -p $casesOutDir\n",
    "\tmkdir -p $controlsOutDir\n",
    "\n",
    "\tfor control in $(ls \"$controlDir\")\n",
    "\tdo\n",
    "\t\techo $control\n",
    "\t\tname=${control:$fileLabelLen:26}\n",
    "\t\treadInput=$controlDir$control\n",
    "\t\treadLikelihood=$controlsOutDir$name\".likelihood\"\n",
    "\t\treadTumorBurden=$controlsOutDir$name\".tumor_burden\"\n",
    "\n",
    "\t\tpython2.7 $getLikelihoods $readInput $runMarkerFile > $readLikelihood\n",
    "\t\tpython2.7 $CancerDetector $readLikelihood $lambda > $readTumorBurden\n",
    "\tdone\n",
    "\n",
    "\tfor case in $(ls \"$caseDir\")\n",
    "\tdo\n",
    "\t\techo $case\n",
    "\t\tname=${case:$fileLabelLen:26}\n",
    "\t\treadInput=$caseDir$case\n",
    "\t\treadLikelihood=$casesOutDir$name\".likelihood\"\n",
    "\t\treadTumorBurden=$casesOutDir$name\".tumor_burden\"\n",
    "\n",
    "\t\tpython2.7 $getLikelihoods $readInput $runMarkerFile > $readLikelihood\n",
    "\t\tpython2.7 $CancerDetector $readLikelihood $lambda > $readTumorBurden\n",
    "\tdone\n",
    "\n",
    "done"
   ]
  },
  {
   "cell_type": "markdown",
   "metadata": {
    "heading_collapsed": true,
    "hidden": true
   },
   "source": [
    "## Generate ROC curves for CancerDetector"
   ]
  },
  {
   "cell_type": "markdown",
   "metadata": {
    "hidden": true
   },
   "source": [
    "**The estimated sample tumor fractions using different combinations of markers based on their shape parameters have been calculated and can be found in ```*SampleTumorBurdens.txt``` files.**\n",
    "\n",
    "**The code below shows how the estimated tumor burdens for each sample, based on the markers of interest for a given run, were obtained in the CancerDetector output directories**\n",
    "\n",
    "**These values are stored in ```*SampleTumorBurdens.txt``` files and these are parsed to generate the CancerDetector ROC curves shown here.***"
   ]
  },
  {
   "cell_type": "markdown",
   "metadata": {
    "heading_collapsed": true,
    "hidden": true
   },
   "source": [
    "### ZNF154 only"
   ]
  },
  {
   "cell_type": "raw",
   "metadata": {
    "ExecuteTime": {
     "end_time": "2020-06-01T19:00:38.198069Z",
     "start_time": "2020-06-01T19:00:38.034981Z"
    },
    "hidden": true
   },
   "source": [
    "dirToCancerDetectorOutputs = 'CancerDetectorComparisonZNF154/cancerDetectorOutput/'\n",
    "\n",
    "Samples = Controls + Cases\n",
    "indices = ['run_' + str(i+1) for i in np.arange(10)]\n",
    "\n",
    "ZNF154tumorBurdenTable = pd.DataFrame(columns=Samples, index=indices)\n",
    "\n",
    "for path, subdirs, files in os.walk(dirToCancerDetectorOutputs):\n",
    "    for name in files:\n",
    "        if 'tumor_burden' in name:\n",
    "            sample = name.split('.')[1]\n",
    "            run = name.split('.')[2]\n",
    "            filepath = os.path.join(path, name)\n",
    "            with open(filepath, 'r') as f:\n",
    "                tumorBurden = f.readline().split('\\t')[0]\n",
    "            ZNF154tumorBurdenTable.loc[run,sample] = tumorBurden\n",
    "            \n",
    "ZNF154tumorBurdenTable.to_csv(\"ZNFCancerDetectorSampleTumorBurdens.csv\")"
   ]
  },
  {
   "cell_type": "code",
   "execution_count": 35,
   "metadata": {
    "ExecuteTime": {
     "end_time": "2020-06-01T22:40:02.821878Z",
     "start_time": "2020-06-01T22:40:02.808551Z"
    },
    "hidden": true
   },
   "outputs": [],
   "source": [
    "ZNF154tumorBurdenTable = pd.read_csv(\"ZNFCancerDetectorSampleTumorBurdens.csv\", index_col=0)"
   ]
  },
  {
   "cell_type": "code",
   "execution_count": 36,
   "metadata": {
    "ExecuteTime": {
     "end_time": "2020-06-01T22:40:03.172808Z",
     "start_time": "2020-06-01T22:40:02.830390Z"
    },
    "hidden": true
   },
   "outputs": [
    {
     "data": {
      "image/png": "[encoded data removed]",
      "text/plain": [
       "<Figure size 432x288 with 1 Axes>"
      ]
     },
     "metadata": {
      "needs_background": "light"
     },
     "output_type": "display_data"
    }
   ],
   "source": [
    "mean_fpr = np.linspace(0, 1, 100)\n",
    "cancerdetector_aucs_ZNF154 = []\n",
    "cancerdetector_tprs = []\n",
    "\n",
    "fig, ax = plt.subplots()\n",
    "for index, row in ZNF154tumorBurdenTable.iterrows():\n",
    "\n",
    "    controlVals = [float(i) for i in row.loc[Controls].dropna().values]\n",
    "    caseVals = [float(i) for i in row.loc[Cases].dropna().values]\n",
    "\n",
    "    values = controlVals + caseVals\n",
    "    labels = [0 for i in controlVals] + [1 for i in caseVals]\n",
    "    fpr, tpr, thresholds = roc_curve(labels, values)\n",
    "    roc_auc = auc(fpr, tpr)\n",
    "    \n",
    "\n",
    "#     optimal_idx = np.argmax(tpr - fpr)\n",
    "#     optimal_threshold = thresholds[optimal_idx]\n",
    "#     sensitivity = tpr[optimal_idx]\n",
    "#     specificity = 1 - fpr[optimal_idx]\n",
    "\n",
    "    cancerdetector_aucs_ZNF154.append(roc_auc)\n",
    "    \n",
    "    interp_tpr = np.interp(mean_fpr, fpr, tpr)\n",
    "    interp_tpr[0] = 0.0\n",
    "    cancerdetector_tprs.append(interp_tpr)\n",
    "\n",
    "    lw = 2\n",
    "    plt.plot(fpr, tpr, color='red', lw=lw,\n",
    "             label='AUC = %0.2f' % roc_auc, alpha=0.1)\n",
    "    plt.plot([0, 1], [0, 1], color='k', lw=lw, linestyle='--')\n",
    "    plt.xlim([0.0, 1.00])\n",
    "    plt.ylim([0.0, 1.00])\n",
    "    plt.xlabel('FPR', fontsize=26)\n",
    "    plt.ylabel('TPR', fontsize=26)\n",
    "    plt.xticks(np.arange(0, 1.1, .2), [str(round(i, 2))\n",
    "                                       for i in np.arange(0, 1.1, .2)], fontsize=20)\n",
    "    plt.yticks(np.arange(0, 1.1, .2), [str(round(i, 2))\n",
    "                                       for i in np.arange(0, 1.1, .2)], fontsize=20)\n",
    "\n",
    "\n",
    "mean_tpr = np.mean(cancerdetector_tprs, axis=0)\n",
    "mean_tpr[-1] = 1.0\n",
    "mean_auc = auc(mean_fpr, mean_tpr)\n",
    "std_auc = np.std(cancerdetector_aucs_ZNF154)\n",
    "\n",
    "\n",
    "ax.plot(mean_fpr, mean_tpr, color='red',\n",
    "        label=r'Mean ROC (AUC = %0.2f $\\pm$ %0.2f)' % (mean_auc, std_auc),\n",
    "        lw=2, alpha=0.8)\n",
    "\n",
    "std_tpr = np.std(cancerdetector_tprs, axis=0)\n",
    "tprs_upper = np.minimum(mean_tpr + std_tpr, 1)\n",
    "tprs_lower = np.maximum(mean_tpr - std_tpr, 0)\n",
    "ax.fill_between(mean_fpr, tprs_lower, tprs_upper, color='salmon', alpha=.5,\n",
    "                label=r'$\\pm$ 1 std. dev.')\n",
    "\n",
    "ax.set(xlim=[-0.01, 1.01], ylim=[-0.01, 1.01])\n",
    "\n",
    "plt.legend(bbox_to_anchor=(1.05, 1.03),\n",
    "               loc='upper left', fontsize=12, edgecolor='k')\n",
    "\n",
    "plt.title('CancerDetector, ZNF154', fontsize=18)\n",
    "\n",
    "plt.show()\n",
    "# plt.savefig('CancerDetector_ZNF154_10runs_ROC_LiverWGBS.png', bbox_inches='tight', pad_inches=0.5, dpi=600)"
   ]
  },
  {
   "cell_type": "markdown",
   "metadata": {
    "heading_collapsed": true,
    "hidden": true
   },
   "source": [
    "### Top 3 markers"
   ]
  },
  {
   "cell_type": "raw",
   "metadata": {
    "ExecuteTime": {
     "end_time": "2020-06-01T19:03:31.275438Z",
     "start_time": "2020-06-01T19:03:31.096793Z"
    },
    "hidden": true
   },
   "source": [
    "dirToCancerDetectorOutputs = 'CancerDetectorComparisonTop3/cancerDetectorOutput/'\n",
    "\n",
    "Samples = Controls + Cases\n",
    "indices = ['run_' + str(i+1) for i in np.arange(10)]\n",
    "\n",
    "Top3tumorBurdenTable = pd.DataFrame(columns=Samples, index=indices)\n",
    "\n",
    "for path, subdirs, files in os.walk(dirToCancerDetectorOutputs):\n",
    "    for name in files:\n",
    "        if 'tumor_burden' in name:\n",
    "            sample = name.split('.')[1]\n",
    "            run = name.split('.')[2]\n",
    "            filepath = os.path.join(path, name)\n",
    "            with open(filepath, 'r') as f:\n",
    "                tumorBurden = f.readline().split('\\t')[0]\n",
    "            Top3tumorBurdenTable.loc[run,sample] = tumorBurden\n",
    "            \n",
    "Top3tumorBurdenTable.to_csv(\"Top3CancerDetectorSampleTumorBurdens.csv\")"
   ]
  },
  {
   "cell_type": "code",
   "execution_count": 37,
   "metadata": {
    "ExecuteTime": {
     "end_time": "2020-06-01T22:40:03.192283Z",
     "start_time": "2020-06-01T22:40:03.175741Z"
    },
    "hidden": true
   },
   "outputs": [],
   "source": [
    "Top3tumorBurdenTable = pd.read_csv(\"Top3CancerDetectorSampleTumorBurdens.csv\", index_col=0)"
   ]
  },
  {
   "cell_type": "code",
   "execution_count": 38,
   "metadata": {
    "ExecuteTime": {
     "end_time": "2020-06-01T22:40:03.597241Z",
     "start_time": "2020-06-01T22:40:03.194597Z"
    },
    "hidden": true
   },
   "outputs": [
    {
     "data": {
      "image/png": "[encoded data removed]",
      "text/plain": [
       "<Figure size 432x288 with 1 Axes>"
      ]
     },
     "metadata": {
      "needs_background": "light"
     },
     "output_type": "display_data"
    }
   ],
   "source": [
    "mean_fpr = np.linspace(0, 1, 100)\n",
    "cancerdetector_aucs_top3 = []\n",
    "cancerdetector_tprs = []\n",
    "\n",
    "fig, ax = plt.subplots()\n",
    "for index, row in Top3tumorBurdenTable.iterrows():\n",
    "\n",
    "    controlVals = [float(i) for i in row.loc[Controls].dropna().values]\n",
    "    caseVals = [float(i) for i in row.loc[Cases].dropna().values]\n",
    "\n",
    "    values = controlVals + caseVals\n",
    "    labels = [0 for i in controlVals] + [1 for i in caseVals]\n",
    "    fpr, tpr, thresholds = roc_curve(labels, values)\n",
    "    roc_auc = auc(fpr, tpr)\n",
    "    \n",
    "\n",
    "#     optimal_idx = np.argmax(tpr - fpr)\n",
    "#     optimal_threshold = thresholds[optimal_idx]\n",
    "#     sensitivity = tpr[optimal_idx]\n",
    "#     specificity = 1 - fpr[optimal_idx]\n",
    "\n",
    "    cancerdetector_aucs_top3.append(roc_auc)\n",
    "    \n",
    "    interp_tpr = np.interp(mean_fpr, fpr, tpr)\n",
    "    interp_tpr[0] = 0.0\n",
    "    cancerdetector_tprs.append(interp_tpr)\n",
    "\n",
    "    lw = 2\n",
    "    plt.plot(fpr, tpr, color='red', lw=lw,\n",
    "             label='AUC = %0.2f' % roc_auc, alpha=0.1)\n",
    "    plt.plot([0, 1], [0, 1], color='k', lw=lw, linestyle='--')\n",
    "    plt.xlim([0.0, 1.00])\n",
    "    plt.ylim([0.0, 1.00])\n",
    "    plt.xlabel('FPR', fontsize=26)\n",
    "    plt.ylabel('TPR', fontsize=26)\n",
    "    plt.xticks(np.arange(0, 1.1, .2), [str(round(i, 2))\n",
    "                                       for i in np.arange(0, 1.1, .2)], fontsize=20)\n",
    "    plt.yticks(np.arange(0, 1.1, .2), [str(round(i, 2))\n",
    "                                       for i in np.arange(0, 1.1, .2)], fontsize=20)\n",
    "\n",
    "\n",
    "mean_tpr = np.mean(cancerdetector_tprs, axis=0)\n",
    "mean_tpr[-1] = 1.0\n",
    "mean_auc = auc(mean_fpr, mean_tpr)\n",
    "std_auc = np.std(cancerdetector_aucs_top3)\n",
    "\n",
    "\n",
    "ax.plot(mean_fpr, mean_tpr, color='red',\n",
    "        label=r'Mean ROC (AUC = %0.2f $\\pm$ %0.2f)' % (mean_auc, std_auc),\n",
    "        lw=2, alpha=0.8)\n",
    "\n",
    "std_tpr = np.std(cancerdetector_tprs, axis=0)\n",
    "tprs_upper = np.minimum(mean_tpr + std_tpr, 1)\n",
    "tprs_lower = np.maximum(mean_tpr - std_tpr, 0)\n",
    "ax.fill_between(mean_fpr, tprs_lower, tprs_upper, color='salmon', alpha=.5,\n",
    "                label=r'$\\pm$ 1 std. dev.')\n",
    "\n",
    "ax.set(xlim=[-0.01, 1.01], ylim=[-0.01, 1.01])\n",
    "\n",
    "plt.legend(bbox_to_anchor=(1.05, 1.03),\n",
    "               loc='upper left', fontsize=12, edgecolor='k')\n",
    "\n",
    "plt.title('CancerDetector, Top 3 Markers', fontsize=18)\n",
    "\n",
    "plt.show()\n",
    "# plt.savefig('CancerDetector_Top3_10runs_ROC_LiverWGBS.png', bbox_inches='tight', pad_inches=0.5, dpi=600)"
   ]
  },
  {
   "cell_type": "markdown",
   "metadata": {
    "heading_collapsed": true,
    "hidden": true
   },
   "source": [
    "### Top 3 plus ZNF154"
   ]
  },
  {
   "cell_type": "raw",
   "metadata": {
    "ExecuteTime": {
     "end_time": "2020-06-01T19:05:24.009707Z",
     "start_time": "2020-06-01T19:05:23.830321Z"
    },
    "hidden": true
   },
   "source": [
    "dirToCancerDetectorOutputs = 'CancerDetectorComparisonTop3plusZNF154/cancerDetectorOutput/'\n",
    "\n",
    "Samples = Controls + Cases\n",
    "indices = ['run_' + str(i+1) for i in np.arange(10)]\n",
    "\n",
    "Top3plusZNF154tumorBurdenTable = pd.DataFrame(columns=Samples, index=indices)\n",
    "\n",
    "for path, subdirs, files in os.walk(dirToCancerDetectorOutputs):\n",
    "    for name in files:\n",
    "        if 'tumor_burden' in name:\n",
    "            sample = name.split('.')[1]\n",
    "            run = name.split('.')[2]\n",
    "            filepath = os.path.join(path, name)\n",
    "            with open(filepath, 'r') as f:\n",
    "                tumorBurden = f.readline().split('\\t')[0]\n",
    "            Top3plusZNF154tumorBurdenTable.loc[run,sample] = tumorBurden\n",
    "            \n",
    "Top3plusZNF154tumorBurdenTable.to_csv(\"Top3plusZNF154CancerDetectorSampleTumorBurdens.csv\")"
   ]
  },
  {
   "cell_type": "code",
   "execution_count": 39,
   "metadata": {
    "ExecuteTime": {
     "end_time": "2020-06-01T22:40:03.619513Z",
     "start_time": "2020-06-01T22:40:03.599306Z"
    },
    "hidden": true
   },
   "outputs": [],
   "source": [
    "Top3plusZNF154tumorBurdenTable = pd.read_csv(\"Top3plusZNF154CancerDetectorSampleTumorBurdens.csv\", index_col=0)"
   ]
  },
  {
   "cell_type": "code",
   "execution_count": 40,
   "metadata": {
    "ExecuteTime": {
     "end_time": "2020-06-01T22:40:03.974647Z",
     "start_time": "2020-06-01T22:40:03.621740Z"
    },
    "hidden": true
   },
   "outputs": [
    {
     "data": {
      "image/png": "[encoded data removed]",
      "text/plain": [
       "<Figure size 432x288 with 1 Axes>"
      ]
     },
     "metadata": {
      "needs_background": "light"
     },
     "output_type": "display_data"
    }
   ],
   "source": [
    "mean_fpr = np.linspace(0, 1, 100)\n",
    "cancerdetector_aucs_top3plusZNF154 = []\n",
    "cancerdetector_tprs = []\n",
    "\n",
    "fig, ax = plt.subplots()\n",
    "for index, row in Top3plusZNF154tumorBurdenTable.iterrows():\n",
    "\n",
    "    controlVals = [float(i) for i in row.loc[Controls].dropna().values]\n",
    "    caseVals = [float(i) for i in row.loc[Cases].dropna().values]\n",
    "\n",
    "    values = controlVals + caseVals\n",
    "    labels = [0 for i in controlVals] + [1 for i in caseVals]\n",
    "    fpr, tpr, thresholds = roc_curve(labels, values)\n",
    "    roc_auc = auc(fpr, tpr)\n",
    "    \n",
    "\n",
    "#     optimal_idx = np.argmax(tpr - fpr)\n",
    "#     optimal_threshold = thresholds[optimal_idx]\n",
    "#     sensitivity = tpr[optimal_idx]\n",
    "#     specificity = 1 - fpr[optimal_idx]\n",
    "\n",
    "    cancerdetector_aucs_top3plusZNF154.append(roc_auc)\n",
    "    \n",
    "    interp_tpr = np.interp(mean_fpr, fpr, tpr)\n",
    "    interp_tpr[0] = 0.0\n",
    "    cancerdetector_tprs.append(interp_tpr)\n",
    "\n",
    "    lw = 2\n",
    "    plt.plot(fpr, tpr, color='red', lw=lw,\n",
    "             label='AUC = %0.2f' % roc_auc, alpha=0.1)\n",
    "    plt.plot([0, 1], [0, 1], color='k', lw=lw, linestyle='--')\n",
    "    plt.xlim([0.0, 1.00])\n",
    "    plt.ylim([0.0, 1.00])\n",
    "    plt.xlabel('FPR', fontsize=26)\n",
    "    plt.ylabel('TPR', fontsize=26)\n",
    "    plt.xticks(np.arange(0, 1.1, .2), [str(round(i, 2))\n",
    "                                       for i in np.arange(0, 1.1, .2)], fontsize=20)\n",
    "    plt.yticks(np.arange(0, 1.1, .2), [str(round(i, 2))\n",
    "                                       for i in np.arange(0, 1.1, .2)], fontsize=20)\n",
    "\n",
    "\n",
    "mean_tpr = np.mean(cancerdetector_tprs, axis=0)\n",
    "mean_tpr[-1] = 1.0\n",
    "mean_auc = auc(mean_fpr, mean_tpr)\n",
    "std_auc = np.std(cancerdetector_aucs_top3plusZNF154)\n",
    "\n",
    "\n",
    "ax.plot(mean_fpr, mean_tpr, color='red',\n",
    "        label=r'Mean ROC (AUC = %0.2f $\\pm$ %0.2f)' % (mean_auc, std_auc),\n",
    "        lw=2, alpha=0.8)\n",
    "\n",
    "std_tpr = np.std(cancerdetector_tprs, axis=0)\n",
    "tprs_upper = np.minimum(mean_tpr + std_tpr, 1)\n",
    "tprs_lower = np.maximum(mean_tpr - std_tpr, 0)\n",
    "ax.fill_between(mean_fpr, tprs_lower, tprs_upper, color='salmon', alpha=.5,\n",
    "                label=r'$\\pm$ 1 std. dev.')\n",
    "\n",
    "ax.set(xlim=[-0.01, 1.01], ylim=[-0.01, 1.01])\n",
    "\n",
    "plt.title('CancerDetector, Top 3 Markers + ZNF154', fontsize=18)\n",
    "\n",
    "plt.legend(bbox_to_anchor=(1.05, 1.03),\n",
    "               loc='upper left', fontsize=12, edgecolor='k')\n",
    "\n",
    "plt.show()\n",
    "# plt.savefig('CancerDetector_Top3plusZNF154_10runs_ROC_LiverWGBS.png', bbox_inches='tight', pad_inches=0.5, dpi=600)"
   ]
  },
  {
   "cell_type": "markdown",
   "metadata": {
    "heading_collapsed": true
   },
   "source": [
    "# Statistical comparisons between EpiClass and CancerDetector"
   ]
  },
  {
   "cell_type": "code",
   "execution_count": 41,
   "metadata": {
    "ExecuteTime": {
     "end_time": "2020-06-01T22:40:03.984275Z",
     "start_time": "2020-06-01T22:40:03.976862Z"
    },
    "hidden": true
   },
   "outputs": [
    {
     "data": {
      "text/plain": [
       "0.05878172135535886"
      ]
     },
     "execution_count": 41,
     "metadata": {},
     "output_type": "execute_result"
    }
   ],
   "source": [
    "# CancerDetector vs EpiClass, ZNF154\n",
    "s, p = stats.ranksums(cancerdetector_aucs_ZNF154, epiclass_aucs_ZNF)\n",
    "p"
   ]
  },
  {
   "cell_type": "code",
   "execution_count": 42,
   "metadata": {
    "ExecuteTime": {
     "end_time": "2020-06-01T22:40:03.994170Z",
     "start_time": "2020-06-01T22:40:03.986682Z"
    },
    "hidden": true
   },
   "outputs": [
    {
     "data": {
      "text/plain": [
       "0.012611144099313947"
      ]
     },
     "execution_count": 42,
     "metadata": {},
     "output_type": "execute_result"
    }
   ],
   "source": [
    "# CancerDetector vs EpiClass, Top 3 plus ZNF154\n",
    "s, p = stats.ranksums(cancerdetector_aucs_top3, epiclass_aucs_3markers)\n",
    "p"
   ]
  },
  {
   "cell_type": "code",
   "execution_count": 43,
   "metadata": {
    "ExecuteTime": {
     "end_time": "2020-06-01T22:40:04.003138Z",
     "start_time": "2020-06-01T22:40:03.996757Z"
    },
    "hidden": true
   },
   "outputs": [
    {
     "data": {
      "text/plain": [
       "0.005158957570721309"
      ]
     },
     "execution_count": 43,
     "metadata": {},
     "output_type": "execute_result"
    }
   ],
   "source": [
    "# CancerDetector vs EpiClass, Top 3 plus ZNF154\n",
    "s, p = stats.ranksums(cancerdetector_aucs_top3plusZNF154, epiclass_aucs_3plusZNF)\n",
    "p"
   ]
  },
  {
   "cell_type": "markdown",
   "metadata": {
    "heading_collapsed": true
   },
   "source": [
    "# Table with training and test sample splits, shape parameters, and epiclass cutoffs"
   ]
  },
  {
   "cell_type": "markdown",
   "metadata": {
    "hidden": true
   },
   "source": [
    "The ```runEpiClass.sh``` output directories were parsed to find the optimal MD cutoffs used for each run for a given marker and these were added to the ```trials``` table in this notebook and saved as ```Supplemental_Table_S3.txt```."
   ]
  },
  {
   "cell_type": "code",
   "execution_count": 44,
   "metadata": {
    "ExecuteTime": {
     "end_time": "2020-06-01T22:40:04.080822Z",
     "start_time": "2020-06-01T22:40:04.006565Z"
    },
    "hidden": true
   },
   "outputs": [],
   "source": [
    "trials['epiclass_ZNF154'] = [np.nan] * 10\n",
    "trials['epiclass_Marker6263'] = [np.nan] * 10\n",
    "trials['epiclass_Marker5594'] = [np.nan] * 10\n",
    "trials['epiclass_Marker29305'] = [np.nan] * 10\n",
    "\n",
    "for path, subdirs, files in os.walk('epiclass_MultiLoci_runs/'):\n",
    "    for f in files:\n",
    "        if \"MD-COUNTS_VALS.csv\" in f:\n",
    "            run = \" \".join(path.split(\"/\")[-3].split('_'))\n",
    "            trainORtest = path.split(\"/\")[-2]\n",
    "            locus = 'epiclass_' + path.split(\"/\")[-1]\n",
    "            md = '0.' + str(f.split('.')[4].split('_MD')[0])\n",
    "            \n",
    "            if trainORtest == 'testing':\n",
    "                \n",
    "                trials.loc[run, locus] = md\n",
    "            \n",
    "trials.to_csv('Supplemental_Table_S3.txt', sep='\\t')          "
   ]
  }
 ],
 "metadata": {
  "kernelspec": {
   "display_name": "Python 3",
   "language": "python",
   "name": "python3"
  },
  "language_info": {
   "codemirror_mode": {
    "name": "ipython",
    "version": 3
   },
   "file_extension": ".py",
   "mimetype": "text/x-python",
   "name": "python",
   "nbconvert_exporter": "python",
   "pygments_lexer": "ipython3",
   "version": "3.7.4"
  }
 },
 "nbformat": 4,
 "nbformat_minor": 2
}
