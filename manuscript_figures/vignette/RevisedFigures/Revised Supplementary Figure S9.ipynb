{
 "cells": [
  {
   "cell_type": "code",
   "execution_count": 1,
   "metadata": {
    "ExecuteTime": {
     "end_time": "2020-06-09T18:12:51.301854Z",
     "start_time": "2020-06-09T18:12:35.717608Z"
    }
   },
   "outputs": [],
   "source": [
    "import pandas as pd\n",
    "import numpy as np\n",
    "from matplotlib import pyplot as plt\n",
    "import scipy.stats as stats\n",
    "\n",
    "import matplotlib as mpl\n",
    "from matplotlib.pyplot import cm\n",
    "from matplotlib import pyplot as plt\n",
    "\n",
    "font = {'family': 'arial',\n",
    "        'size': 14}\n",
    "mpl.rc('font', **font)\n",
    "\n",
    "%matplotlib inline"
   ]
  },
  {
   "cell_type": "code",
   "execution_count": 2,
   "metadata": {
    "ExecuteTime": {
     "end_time": "2020-06-09T18:12:51.337780Z",
     "start_time": "2020-06-09T18:12:51.310661Z"
    }
   },
   "outputs": [],
   "source": [
    "def lighten_color(color, amount=0.3):\n",
    "        \"\"\"\n",
    "        Lightens the given color by multiplying (1-luminosity) by the given amount.\n",
    "        Input can be matplotlib color string, hex string, or RGB tuple.\n",
    "\n",
    "        Examples:\n",
    "        >> lighten_color('g', 0.3)\n",
    "        >> lighten_color('#F034A3', 0.6)\n",
    "        >> lighten_color((.3,.55,.1), 0.5)\n",
    "        \"\"\"\n",
    "        import matplotlib.colors as mc\n",
    "        import colorsys\n",
    "        try:\n",
    "            c = mc.cnames[color]\n",
    "        except:\n",
    "            c = color\n",
    "        c = colorsys.rgb_to_hls(*mc.to_rgb(c))\n",
    "        return colorsys.hls_to_rgb(c[0], 1 - amount * (1 - c[1]), c[2])"
   ]
  },
  {
   "cell_type": "code",
   "execution_count": 3,
   "metadata": {
    "ExecuteTime": {
     "end_time": "2020-06-09T18:12:51.366553Z",
     "start_time": "2020-06-09T18:12:51.348700Z"
    }
   },
   "outputs": [],
   "source": [
    "def ranksum(caseVals, controlVals):\n",
    "\n",
    "    s, p = stats.ranksums(caseVals, controlVals)\n",
    "    return p"
   ]
  },
  {
   "cell_type": "markdown",
   "metadata": {},
   "source": [
    "# MD > 0; Mean* methylation"
   ]
  },
  {
   "cell_type": "code",
   "execution_count": 4,
   "metadata": {
    "ExecuteTime": {
     "end_time": "2020-06-09T18:12:51.549323Z",
     "start_time": "2020-06-09T18:12:51.377296Z"
    }
   },
   "outputs": [],
   "source": [
    "rawData0 = pd.read_csv('trainingAndValidationMD0Counts.csv')"
   ]
  },
  {
   "cell_type": "code",
   "execution_count": 5,
   "metadata": {
    "ExecuteTime": {
     "end_time": "2020-06-09T18:12:51.602571Z",
     "start_time": "2020-06-09T18:12:51.561636Z"
    }
   },
   "outputs": [],
   "source": [
    "trainCases0 = rawData0['training cases'].dropna().values\n",
    "trainControls0 = rawData0['training controls'].dropna().values\n",
    "validationCases0 = rawData0['validation cases'].dropna().values\n",
    "validationControls0 = rawData0['validation controls'].dropna().values"
   ]
  },
  {
   "cell_type": "code",
   "execution_count": 6,
   "metadata": {
    "ExecuteTime": {
     "end_time": "2020-06-09T18:12:57.635744Z",
     "start_time": "2020-06-09T18:12:51.613596Z"
    }
   },
   "outputs": [
    {
     "name": "stdout",
     "output_type": "stream",
     "text": [
      "statistics:\n",
      "Training cases median = 28.002032815\n",
      "Validation cases median = 30.432098765\n",
      "Training controls median = 22.22222222\n",
      "Validation controls median = 14.583333335\n",
      " \n",
      "rank sum p-values:\n",
      "Training vs Validation cases rank sum = 0.23620655337602614\n",
      "Training vs Validation controls rank sum = 0.12597116307723114\n",
      "Training cases vs controls rank sum = 0.7186529876661425\n",
      "Validation cases vs controls rank sum = 0.057957947893948245\n"
     ]
    },
    {
     "data": {
      "image/png": "[encoded data removed]",
      "text/plain": [
       "<Figure size 288x288 with 1 Axes>"
      ]
     },
     "metadata": {
      "needs_background": "light"
     },
     "output_type": "display_data"
    }
   ],
   "source": [
    "boxes = [trainCases0, validationCases0, trainControls0, validationControls0]\n",
    "positions = [1, 2, 3, 4]\n",
    "colors = ['red', 'red', 'blue', 'blue']\n",
    "xlabels = ['training\\ncases\\nn=26', 'validation\\ncases\\nn=24', 'training\\ncontrols\\nn=41', 'validation\\ncontrols\\nn=12']\n",
    "\n",
    "fig, ax = plt.subplots(figsize=(4, 4))\n",
    "bp = ax.boxplot(boxes, positions=positions, widths=0.4, patch_artist=True)\n",
    "\n",
    "for flier in bp['fliers']:\n",
    "    flier.set(marker='', color='black')\n",
    "for whisker in bp['whiskers']:\n",
    "    whisker.set(color='black', linewidth=2)\n",
    "for cap in bp['caps']:\n",
    "    cap.set(color='black', linewidth=2)\n",
    "for median in bp['medians']:\n",
    "    median.set(color='black', linewidth=2)\n",
    "\n",
    "for i in np.arange(len(boxes)):\n",
    "    bp['boxes'][i].set(color=colors[i], linewidth=2, alpha=0.9)\n",
    "    bp['boxes'][i].set(facecolor=lighten_color(colors[i]))\n",
    "    scatter = ax.scatter(x=np.random.normal(positions[i], 0.1, size=len(boxes[i])),\n",
    "                         y=boxes[i], c=colors[i], marker='.', edgecolors='', s=30, zorder=10)\n",
    "\n",
    "ax.set_ylim([0, 150])\n",
    "\n",
    "ax.set_xticklabels(xlabels, fontsize=12)\n",
    "# ax.set_xlabel('Sample Sets', fontsize=12)\n",
    "ax.set_ylabel('normalized counts', fontsize=12)\n",
    "plt.title('MDC 0%')\n",
    "\n",
    "# ax.set_yticks([0.0, 0.001, 0.002, 0.003, 0.004])\n",
    "# ax.set_yticklabels([0.0, 0.001, 0.002, 0.003, 0.004], fontsize=12)\n",
    "\n",
    "\n",
    "# plt.show()\n",
    "\n",
    "print('statistics:')\n",
    "print(\"Training cases median = {}\".format(np.median(trainCases0)))\n",
    "print(\"Validation cases median = {}\".format(np.median(validationCases0)))\n",
    "print(\"Training controls median = {}\".format(np.median(trainControls0)))\n",
    "print(\"Validation controls median = {}\".format(np.median(validationControls0)))\n",
    "print(' ')\n",
    "print('rank sum p-values:')\n",
    "\n",
    "# s1, p1 = stats.mannwhitneyu(trainCases0, validationCases0)\n",
    "print(\"Training vs Validation cases rank sum = {}\".format(ranksum(trainCases0, validationCases0)))\n",
    "\n",
    "# s2, p2 = stats.mannwhitneyu(trainControls0, validationControls0)\n",
    "print(\"Training vs Validation controls rank sum = {}\".format(ranksum(trainControls0, validationControls0)))\n",
    "\n",
    "# s3, p3 = stats.mannwhitneyu(trainCases0, trainControls0)\n",
    "print(\"Training cases vs controls rank sum = {}\".format(ranksum(trainCases0, trainControls0)))\n",
    "\n",
    "# s4, p4 = stats.mannwhitneyu(validationCases0, validationControls0)\n",
    "print(\"Validation cases vs controls rank sum = {}\".format(ranksum(validationCases0, validationControls0)))\n",
    "\n",
    "plt.savefig('SupplementalFigureS9-v2.png', bbox_inches='tight', pad_inches=0.5, dpi=600)"
   ]
  },
  {
   "cell_type": "code",
   "execution_count": null,
   "metadata": {},
   "outputs": [],
   "source": []
  }
 ],
 "metadata": {
  "kernelspec": {
   "display_name": "Python 3",
   "language": "python",
   "name": "python3"
  },
  "language_info": {
   "codemirror_mode": {
    "name": "ipython",
    "version": 3
   },
   "file_extension": ".py",
   "mimetype": "text/x-python",
   "name": "python",
   "nbconvert_exporter": "python",
   "pygments_lexer": "ipython3",
   "version": "3.7.4"
  }
 },
 "nbformat": 4,
 "nbformat_minor": 2
}
