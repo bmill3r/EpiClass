{
 "cells": [
  {
   "cell_type": "code",
   "execution_count": 1,
   "metadata": {
    "ExecuteTime": {
     "end_time": "2020-06-07T20:55:20.427555Z",
     "start_time": "2020-06-07T20:55:18.976569Z"
    }
   },
   "outputs": [],
   "source": [
    "import pandas as pd\n",
    "import numpy as np\n",
    "import sys\n",
    "from matplotlib import pyplot as plt\n",
    "import matplotlib\n",
    "import itertools\n",
    "\n",
    "from sklearn.metrics import roc_curve, auc\n",
    "import scipy.stats as stats\n",
    "\n",
    "# aesthetics for plots:\n",
    "font = {'family': 'arial',\n",
    "        'size': 18}\n",
    "matplotlib.rc('font', **font)\n",
    "\n",
    "%matplotlib inline"
   ]
  },
  {
   "cell_type": "code",
   "execution_count": 2,
   "metadata": {
    "ExecuteTime": {
     "end_time": "2020-06-07T20:55:20.437903Z",
     "start_time": "2020-06-07T20:55:20.430349Z"
    }
   },
   "outputs": [],
   "source": [
    "def lighten_color(color, amount=0.3):\n",
    "        \"\"\"\n",
    "        Lightens the given color by multiplying (1-luminosity) by the given amount.\n",
    "        Input can be matplotlib color string, hex string, or RGB tuple.\n",
    "\n",
    "        Examples:\n",
    "        >> lighten_color('g', 0.3)\n",
    "        >> lighten_color('#F034A3', 0.6)\n",
    "        >> lighten_color((.3,.55,.1), 0.5)\n",
    "        \"\"\"\n",
    "        import matplotlib.colors as mc\n",
    "        import colorsys\n",
    "        try:\n",
    "            c = mc.cnames[color]\n",
    "        except:\n",
    "            c = color\n",
    "        c = colorsys.rgb_to_hls(*mc.to_rgb(c))\n",
    "        return colorsys.hls_to_rgb(c[0], 1 - amount * (1 - c[1]), c[2])"
   ]
  },
  {
   "cell_type": "code",
   "execution_count": 3,
   "metadata": {
    "ExecuteTime": {
     "end_time": "2020-06-07T20:55:20.444133Z",
     "start_time": "2020-06-07T20:55:20.440708Z"
    }
   },
   "outputs": [],
   "source": [
    "def ranksum(caseVals, controlVals):\n",
    "\n",
    "    s, p = stats.ranksums(caseVals, controlVals)\n",
    "    return p"
   ]
  },
  {
   "cell_type": "code",
   "execution_count": 4,
   "metadata": {
    "ExecuteTime": {
     "end_time": "2020-06-07T20:55:20.450252Z",
     "start_time": "2020-06-07T20:55:20.447085Z"
    }
   },
   "outputs": [],
   "source": [
    "basePath = \"EpiClass/manuscript_figures/vignette/\""
   ]
  },
  {
   "cell_type": "markdown",
   "metadata": {},
   "source": [
    "# Training Set; Figure 3D"
   ]
  },
  {
   "cell_type": "code",
   "execution_count": 5,
   "metadata": {
    "ExecuteTime": {
     "end_time": "2020-06-07T20:55:20.456479Z",
     "start_time": "2020-06-07T20:55:20.452780Z"
    }
   },
   "outputs": [],
   "source": [
    "md0_train_path = basePath + \"trainingSet/MDBC.2019-12-06_14-54.0.0_MD-COUNTS_VALS.csv\"\n",
    "msp_train_path = basePath + \"trainingSet/MDBC.2019-12-06_14-54.0.95_MD-COUNTS_VALS.csv\"\n",
    "mdOpt_train_path = basePath + \"trainingSet/MDBC.2019-12-06_14-54.0.6_MD-COUNTS_VALS.csv\""
   ]
  },
  {
   "cell_type": "code",
   "execution_count": 6,
   "metadata": {
    "ExecuteTime": {
     "end_time": "2020-06-07T20:55:21.604817Z",
     "start_time": "2020-06-07T20:55:20.458967Z"
    }
   },
   "outputs": [
    {
     "name": "stdout",
     "output_type": "stream",
     "text": [
      "0.7186529876661425\n"
     ]
    },
    {
     "data": {
      "image/png": "[encoded data removed]",
      "text/plain": [
       "<Figure size 144x288 with 1 Axes>"
      ]
     },
     "metadata": {
      "needs_background": "light"
     },
     "output_type": "display_data"
    }
   ],
   "source": [
    "df = pd.read_csv(md0_train_path)\n",
    "cases = df['cases'].dropna().values.tolist()\n",
    "controls = df['controls'].dropna().values.tolist()\n",
    "\n",
    "boxes = [cases, controls]\n",
    "positions = [1, 2]\n",
    "colors = ['red', 'blue']\n",
    "xlabels = ['cases', 'controls']\n",
    "\n",
    "fig, ax = plt.subplots(figsize=(2, 4))\n",
    "bp = ax.boxplot(boxes, positions=positions, widths=0.4, patch_artist=True)\n",
    "\n",
    "for flier in bp['fliers']:\n",
    "    flier.set(marker='', color='black')\n",
    "for whisker in bp['whiskers']:\n",
    "    whisker.set(color='black', linewidth=2)\n",
    "for cap in bp['caps']:\n",
    "    cap.set(color='black', linewidth=2)\n",
    "for median in bp['medians']:\n",
    "    median.set(color='black', linewidth=2)\n",
    "\n",
    "for i in np.arange(len(boxes)):\n",
    "    bp['boxes'][i].set(color=colors[i], linewidth=2, alpha=0.9)\n",
    "    bp['boxes'][i].set(facecolor=lighten_color(colors[i]))\n",
    "    scatter = ax.scatter(x=np.random.normal(positions[i], 0.1, size=len(boxes[i])),\n",
    "                         y=boxes[i], c=colors[i], marker='.', edgecolors='', s=30, zorder=10)\n",
    "\n",
    "ax.set_ylim([0, 150])\n",
    "\n",
    "for tick in ax.yaxis.get_major_ticks():\n",
    "    tick.label.set_fontsize(16)\n",
    "\n",
    "ax.set_xticklabels(xlabels, fontsize=16)\n",
    "ax.set_ylabel('normalized read counts', fontsize=16)\n",
    "plt.title('Mean*\\nmethylation', fontsize=18, y=1.05)\n",
    "\n",
    "p = ranksum(cases, controls)\n",
    "print(p)\n",
    "\n",
    "if 0.01 <= p < 0.05:\n",
    "    plt.text(x=1.7, y=140, s='*', fontsize=24)\n",
    "if 0.001 <= p < 0.01:\n",
    "    plt.text(x=1.6, y=140, s='**', fontsize=24)\n",
    "if p < 0.001:\n",
    "    plt.text(x=1.5, y=140, s='***', fontsize=24)\n",
    "if p >= 0.05:\n",
    "    plt.text(x=1.33, y=135, s='ns', fontsize=24)\n",
    "    \n",
    "# plt.show()\n",
    "plt.savefig('Figure_3D_meanMeth_training.png', bbox_inches='tight', pad_inches=0.5, dpi=600)"
   ]
  },
  {
   "cell_type": "code",
   "execution_count": 7,
   "metadata": {
    "ExecuteTime": {
     "end_time": "2020-06-07T20:55:22.550446Z",
     "start_time": "2020-06-07T20:55:21.609778Z"
    }
   },
   "outputs": [
    {
     "name": "stdout",
     "output_type": "stream",
     "text": [
      "0.020560739563001446\n"
     ]
    },
    {
     "data": {
      "image/png": "[encoded data removed]",
      "text/plain": [
       "<Figure size 144x288 with 1 Axes>"
      ]
     },
     "metadata": {
      "needs_background": "light"
     },
     "output_type": "display_data"
    }
   ],
   "source": [
    "df = pd.read_csv(msp_train_path)\n",
    "cases = df['cases'].dropna().values.tolist()\n",
    "controls = df['controls'].dropna().values.tolist()\n",
    "\n",
    "boxes = [cases, controls]\n",
    "positions = [1, 2]\n",
    "colors = ['red', 'blue']\n",
    "xlabels = ['cases', 'controls']\n",
    "\n",
    "fig, ax = plt.subplots(figsize=(2, 4))\n",
    "bp = ax.boxplot(boxes, positions=positions, widths=0.4, patch_artist=True)\n",
    "\n",
    "for flier in bp['fliers']:\n",
    "    flier.set(marker='', color='black')\n",
    "for whisker in bp['whiskers']:\n",
    "    whisker.set(color='black', linewidth=2)\n",
    "for cap in bp['caps']:\n",
    "    cap.set(color='black', linewidth=2)\n",
    "for median in bp['medians']:\n",
    "    median.set(color='black', linewidth=2)\n",
    "\n",
    "for i in np.arange(len(boxes)):\n",
    "    bp['boxes'][i].set(color=colors[i], linewidth=2, alpha=0.9)\n",
    "    bp['boxes'][i].set(facecolor=lighten_color(colors[i]))\n",
    "    scatter = ax.scatter(x=np.random.normal(positions[i], 0.1, size=len(boxes[i])),\n",
    "                         y=boxes[i], c=colors[i], marker='.', edgecolors='', s=30, zorder=10)\n",
    "\n",
    "ax.set_ylim([0, 150])\n",
    "\n",
    "for tick in ax.yaxis.get_major_ticks():\n",
    "    tick.label.set_fontsize(16)\n",
    "\n",
    "ax.set_xticklabels(xlabels, fontsize=16)\n",
    "ax.set_ylabel('normalized read counts', fontsize=16)\n",
    "plt.title('MSP*', fontsize=18, y=1.05)\n",
    "\n",
    "p = ranksum(cases, controls)\n",
    "print(p)\n",
    "\n",
    "if 0.01 <= p < 0.05:\n",
    "    plt.text(x=1.4, y=130, s='*', fontsize=32)\n",
    "if 0.001 <= p < 0.01:\n",
    "    plt.text(x=1.6, y=140, s='**', fontsize=24)\n",
    "if p < 0.001:\n",
    "    plt.text(x=1.5, y=140, s='***', fontsize=24)\n",
    "if p >= 0.05:\n",
    "    plt.text(x=1.33, y=138, s='ns', fontsize=24)\n",
    "    \n",
    "# plt.show()\n",
    "plt.savefig('Figure_3D_MSP_training.png', bbox_inches='tight', pad_inches=0.5, dpi=600)"
   ]
  },
  {
   "cell_type": "code",
   "execution_count": 8,
   "metadata": {
    "ExecuteTime": {
     "end_time": "2020-06-07T20:55:23.464053Z",
     "start_time": "2020-06-07T20:55:22.553830Z"
    }
   },
   "outputs": [
    {
     "name": "stdout",
     "output_type": "stream",
     "text": [
      "0.018868401440273255\n"
     ]
    },
    {
     "data": {
      "image/png": "[encoded data removed]",
      "text/plain": [
       "<Figure size 144x288 with 1 Axes>"
      ]
     },
     "metadata": {
      "needs_background": "light"
     },
     "output_type": "display_data"
    }
   ],
   "source": [
    "df = pd.read_csv(mdOpt_train_path)\n",
    "cases = df['cases'].dropna().values.tolist()\n",
    "controls = df['controls'].dropna().values.tolist()\n",
    "\n",
    "boxes = [cases, controls]\n",
    "positions = [1, 2]\n",
    "colors = ['red', 'blue']\n",
    "xlabels = ['cases', 'controls']\n",
    "\n",
    "fig, ax = plt.subplots(figsize=(2, 4))\n",
    "bp = ax.boxplot(boxes, positions=positions, widths=0.4, patch_artist=True)\n",
    "\n",
    "for flier in bp['fliers']:\n",
    "    flier.set(marker='', color='black')\n",
    "for whisker in bp['whiskers']:\n",
    "    whisker.set(color='black', linewidth=2)\n",
    "for cap in bp['caps']:\n",
    "    cap.set(color='black', linewidth=2)\n",
    "for median in bp['medians']:\n",
    "    median.set(color='black', linewidth=2)\n",
    "\n",
    "for i in np.arange(len(boxes)):\n",
    "    bp['boxes'][i].set(color=colors[i], linewidth=2, alpha=0.9)\n",
    "    bp['boxes'][i].set(facecolor=lighten_color(colors[i]))\n",
    "    scatter = ax.scatter(x=np.random.normal(positions[i], 0.1, size=len(boxes[i])),\n",
    "                         y=boxes[i], c=colors[i], marker='.', edgecolors='', s=30, zorder=10)\n",
    "\n",
    "ax.set_ylim([0, 150])\n",
    "\n",
    "for tick in ax.yaxis.get_major_ticks():\n",
    "    tick.label.set_fontsize(16)\n",
    "\n",
    "ax.set_xticklabels(xlabels, fontsize=16)\n",
    "ax.set_ylabel('normalized read counts', fontsize=16)\n",
    "plt.title('EpiClass', fontsize=18, y=1.05)\n",
    "\n",
    "p = ranksum(cases, controls)\n",
    "print(p)\n",
    "\n",
    "if 0.01 <= p < 0.05:\n",
    "    plt.text(x=1.4, y=130, s='*', fontsize=32)\n",
    "if 0.001 <= p < 0.01:\n",
    "    plt.text(x=1.6, y=140, s='**', fontsize=24)\n",
    "if p < 0.001:\n",
    "    plt.text(x=1.5, y=140, s='***', fontsize=24)\n",
    "if p >= 0.05:\n",
    "    plt.text(x=1.33, y=138, s='ns', fontsize=24)\n",
    "    \n",
    "# plt.show()\n",
    "plt.savefig('Figure_3D_EpiClass_training.png', bbox_inches='tight', pad_inches=0.5, dpi=600)"
   ]
  },
  {
   "cell_type": "markdown",
   "metadata": {},
   "source": [
    "# Validation Set; Figure 4D"
   ]
  },
  {
   "cell_type": "code",
   "execution_count": 9,
   "metadata": {
    "ExecuteTime": {
     "end_time": "2020-06-07T20:55:23.469986Z",
     "start_time": "2020-06-07T20:55:23.466035Z"
    }
   },
   "outputs": [],
   "source": [
    "md0_val_path = basePath + \"validationSet/MDBC.2019-12-06_14-54.0.0_MD-COUNTS_VALS.csv\"\n",
    "msp_val_path = basePath + \"validationSet/MDBC.2019-12-06_14-54.0.95_MD-COUNTS_VALS.csv\"\n",
    "mdOpt_val_path = basePath + \"validationSet/MDBC.2019-12-06_14-54.0.6_MD-COUNTS_VALS.csv\""
   ]
  },
  {
   "cell_type": "code",
   "execution_count": 10,
   "metadata": {
    "ExecuteTime": {
     "end_time": "2020-06-07T20:55:24.508090Z",
     "start_time": "2020-06-07T20:55:23.472450Z"
    }
   },
   "outputs": [
    {
     "name": "stdout",
     "output_type": "stream",
     "text": [
      "0.057957947893948245\n"
     ]
    },
    {
     "data": {
      "image/png": "[encoded data removed]",
      "text/plain": [
       "<Figure size 144x288 with 1 Axes>"
      ]
     },
     "metadata": {
      "needs_background": "light"
     },
     "output_type": "display_data"
    }
   ],
   "source": [
    "df = pd.read_csv(md0_val_path)\n",
    "cases = df['cases'].dropna().values.tolist()\n",
    "controls = df['controls'].dropna().values.tolist()\n",
    "\n",
    "boxes = [cases, controls]\n",
    "positions = [1, 2]\n",
    "colors = ['red', 'blue']\n",
    "xlabels = ['cases', 'controls']\n",
    "\n",
    "fig, ax = plt.subplots(figsize=(2, 4))\n",
    "bp = ax.boxplot(boxes, positions=positions, widths=0.4, patch_artist=True)\n",
    "\n",
    "for flier in bp['fliers']:\n",
    "    flier.set(marker='', color='black')\n",
    "for whisker in bp['whiskers']:\n",
    "    whisker.set(color='black', linewidth=2)\n",
    "for cap in bp['caps']:\n",
    "    cap.set(color='black', linewidth=2)\n",
    "for median in bp['medians']:\n",
    "    median.set(color='black', linewidth=2)\n",
    "\n",
    "for i in np.arange(len(boxes)):\n",
    "    bp['boxes'][i].set(color=colors[i], linewidth=2, alpha=0.9)\n",
    "    bp['boxes'][i].set(facecolor=lighten_color(colors[i]))\n",
    "    scatter = ax.scatter(x=np.random.normal(positions[i], 0.1, size=len(boxes[i])),\n",
    "                         y=boxes[i], c=colors[i], marker='.', edgecolors='', s=30, zorder=10)\n",
    "\n",
    "ax.set_ylim([0, 150])\n",
    "\n",
    "for tick in ax.yaxis.get_major_ticks():\n",
    "    tick.label.set_fontsize(16)\n",
    "\n",
    "ax.set_xticklabels(xlabels, fontsize=16)\n",
    "ax.set_ylabel('normalized read counts', fontsize=16)\n",
    "plt.title('Mean*\\nmethylation', fontsize=18, y=1.05)\n",
    "\n",
    "p = ranksum(cases, controls)\n",
    "print(p)\n",
    "\n",
    "if 0.01 <= p < 0.05:\n",
    "    plt.text(x=1.4, y=130, s='*', fontsize=32)\n",
    "if 0.001 <= p < 0.01:\n",
    "    plt.text(x=1.6, y=140, s='**', fontsize=24)\n",
    "if p < 0.001:\n",
    "    plt.text(x=1.5, y=140, s='***', fontsize=24)\n",
    "if p >= 0.05:\n",
    "    plt.text(x=1.33, y=130, s='ns', fontsize=24)\n",
    "    \n",
    "# plt.show()\n",
    "plt.savefig('Figure_4D_meanMeth_validation.png', bbox_inches='tight', pad_inches=0.5, dpi=600)"
   ]
  },
  {
   "cell_type": "code",
   "execution_count": 11,
   "metadata": {
    "ExecuteTime": {
     "end_time": "2020-06-07T20:55:25.488870Z",
     "start_time": "2020-06-07T20:55:24.510788Z"
    }
   },
   "outputs": [
    {
     "name": "stdout",
     "output_type": "stream",
     "text": [
      "0.06996744829844559\n"
     ]
    },
    {
     "data": {
      "image/png": "[encoded data removed]",
      "text/plain": [
       "<Figure size 144x288 with 1 Axes>"
      ]
     },
     "metadata": {
      "needs_background": "light"
     },
     "output_type": "display_data"
    }
   ],
   "source": [
    "df = pd.read_csv(msp_val_path)\n",
    "cases = df['cases'].dropna().values.tolist()\n",
    "controls = df['controls'].dropna().values.tolist()\n",
    "\n",
    "boxes = [cases, controls]\n",
    "positions = [1, 2]\n",
    "colors = ['red', 'blue']\n",
    "xlabels = ['cases', 'controls']\n",
    "\n",
    "fig, ax = plt.subplots(figsize=(2, 4))\n",
    "bp = ax.boxplot(boxes, positions=positions, widths=0.4, patch_artist=True)\n",
    "\n",
    "for flier in bp['fliers']:\n",
    "    flier.set(marker='', color='black')\n",
    "for whisker in bp['whiskers']:\n",
    "    whisker.set(color='black', linewidth=2)\n",
    "for cap in bp['caps']:\n",
    "    cap.set(color='black', linewidth=2)\n",
    "for median in bp['medians']:\n",
    "    median.set(color='black', linewidth=2)\n",
    "\n",
    "for i in np.arange(len(boxes)):\n",
    "    bp['boxes'][i].set(color=colors[i], linewidth=2, alpha=0.9)\n",
    "    bp['boxes'][i].set(facecolor=lighten_color(colors[i]))\n",
    "    scatter = ax.scatter(x=np.random.normal(positions[i], 0.1, size=len(boxes[i])),\n",
    "                         y=boxes[i], c=colors[i], marker='.', edgecolors='', s=30, zorder=10)\n",
    "\n",
    "ax.set_ylim([0, 15])\n",
    "\n",
    "for tick in ax.yaxis.get_major_ticks():\n",
    "    tick.label.set_fontsize(16)\n",
    "\n",
    "ax.set_xticklabels(xlabels, fontsize=16)\n",
    "ax.set_ylabel('normalized read counts', fontsize=16)\n",
    "plt.title('MSP*', fontsize=18, y=1.05)\n",
    "\n",
    "p = ranksum(cases, controls)\n",
    "print(p)\n",
    "\n",
    "if 0.01 <= p < 0.05:\n",
    "    plt.text(x=1.4, y=130, s='*', fontsize=32)\n",
    "if 0.001 <= p < 0.01:\n",
    "    plt.text(x=1.6, y=140, s='**', fontsize=24)\n",
    "if p < 0.001:\n",
    "    plt.text(x=1.5, y=140, s='***', fontsize=24)\n",
    "if p >= 0.05:\n",
    "    plt.text(x=1.33, y=13, s='ns', fontsize=24)\n",
    "    \n",
    "# plt.show()\n",
    "plt.savefig('Figure_4D_MSP_validation.png', bbox_inches='tight', pad_inches=0.5, dpi=600)"
   ]
  },
  {
   "cell_type": "code",
   "execution_count": 12,
   "metadata": {
    "ExecuteTime": {
     "end_time": "2020-06-07T20:55:26.527023Z",
     "start_time": "2020-06-07T20:55:25.491354Z"
    }
   },
   "outputs": [
    {
     "name": "stdout",
     "output_type": "stream",
     "text": [
      "1.7437960952953952e-05\n"
     ]
    },
    {
     "data": {
      "image/png": "[encoded data removed]",
      "text/plain": [
       "<Figure size 144x288 with 1 Axes>"
      ]
     },
     "metadata": {
      "needs_background": "light"
     },
     "output_type": "display_data"
    }
   ],
   "source": [
    "df = pd.read_csv(mdOpt_val_path)\n",
    "cases = df['cases'].dropna().values.tolist()\n",
    "controls = df['controls'].dropna().values.tolist()\n",
    "\n",
    "boxes = [cases, controls]\n",
    "positions = [1, 2]\n",
    "colors = ['red', 'blue']\n",
    "xlabels = ['cases', 'controls']\n",
    "\n",
    "fig, ax = plt.subplots(figsize=(2, 4))\n",
    "bp = ax.boxplot(boxes, positions=positions, widths=0.4, patch_artist=True)\n",
    "\n",
    "for flier in bp['fliers']:\n",
    "    flier.set(marker='', color='black')\n",
    "for whisker in bp['whiskers']:\n",
    "    whisker.set(color='black', linewidth=2)\n",
    "for cap in bp['caps']:\n",
    "    cap.set(color='black', linewidth=2)\n",
    "for median in bp['medians']:\n",
    "    median.set(color='black', linewidth=2)\n",
    "\n",
    "for i in np.arange(len(boxes)):\n",
    "    bp['boxes'][i].set(color=colors[i], linewidth=2, alpha=0.9)\n",
    "    bp['boxes'][i].set(facecolor=lighten_color(colors[i]))\n",
    "    scatter = ax.scatter(x=np.random.normal(positions[i], 0.1, size=len(boxes[i])),\n",
    "                         y=boxes[i], c=colors[i], marker='.', edgecolors='', s=30, zorder=10)\n",
    "\n",
    "ax.set_ylim([0, 40])\n",
    "\n",
    "for tick in ax.yaxis.get_major_ticks():\n",
    "    tick.label.set_fontsize(16)\n",
    "\n",
    "ax.set_xticklabels(xlabels, fontsize=16)\n",
    "ax.set_ylabel('normalized read counts', fontsize=16)\n",
    "plt.title('EpiClass', fontsize=18, y=1.05)\n",
    "\n",
    "p = ranksum(cases, controls)\n",
    "print(p)\n",
    "\n",
    "if 0.01 <= p < 0.05:\n",
    "    plt.text(x=1.4, y=130, s='*', fontsize=32)\n",
    "if 0.001 <= p < 0.01:\n",
    "    plt.text(x=1.6, y=140, s='**', fontsize=24)\n",
    "if p < 0.001:\n",
    "    plt.text(x=1.32, y=34, s='***', fontsize=24)\n",
    "if p >= 0.05:\n",
    "    plt.text(x=1.33, y=138, s='ns', fontsize=24)\n",
    "    \n",
    "# plt.show()\n",
    "plt.savefig('Figure_4D_EpiClass_validation.png', bbox_inches='tight', pad_inches=0.5, dpi=600)"
   ]
  },
  {
   "cell_type": "code",
   "execution_count": null,
   "metadata": {},
   "outputs": [],
   "source": []
  }
 ],
 "metadata": {
  "kernelspec": {
   "display_name": "Python 3",
   "language": "python",
   "name": "python3"
  },
  "language_info": {
   "codemirror_mode": {
    "name": "ipython",
    "version": 3
   },
   "file_extension": ".py",
   "mimetype": "text/x-python",
   "name": "python",
   "nbconvert_exporter": "python",
   "pygments_lexer": "ipython3",
   "version": "3.7.4"
  }
 },
 "nbformat": 4,
 "nbformat_minor": 2
}
